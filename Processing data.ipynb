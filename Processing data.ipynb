{
 "cells": [
  {
   "cell_type": "markdown",
   "id": "43752a58",
   "metadata": {},
   "source": [
    "# Samambaia House Price Prediction\n",
    "\n",
    "Here are the steps used in this preprocesing file\n",
    "\n",
    "1.  Check Dataset House Locations\n",
    "2.  Mark Samambaia Houses\n",
    "3.  Filter Samambaia Houses\n",
    "4. \n",
    "\n",
    "##### Loading libraries"
   ]
  },
  {
   "cell_type": "code",
   "execution_count": 3,
   "id": "240cda40",
   "metadata": {},
   "outputs": [],
   "source": [
    "# Import libraries\n",
    "import pandas as pd"
   ]
  },
  {
   "cell_type": "markdown",
   "id": "0914b150",
   "metadata": {},
   "source": [
    "##### Loading data to pandas"
   ]
  },
  {
   "cell_type": "code",
   "execution_count": 13,
   "id": "a830932e",
   "metadata": {
    "scrolled": true
   },
   "outputs": [
    {
     "data": {
      "text/html": [
       "<div>\n",
       "<style scoped>\n",
       "    .dataframe tbody tr th:only-of-type {\n",
       "        vertical-align: middle;\n",
       "    }\n",
       "\n",
       "    .dataframe tbody tr th {\n",
       "        vertical-align: top;\n",
       "    }\n",
       "\n",
       "    .dataframe thead th {\n",
       "        text-align: right;\n",
       "    }\n",
       "</style>\n",
       "<table border=\"1\" class=\"dataframe\">\n",
       "  <thead>\n",
       "    <tr style=\"text-align: right;\">\n",
       "      <th></th>\n",
       "      <th>house_name</th>\n",
       "      <th>house_price</th>\n",
       "      <th>house_description</th>\n",
       "      <th>house_location</th>\n",
       "      <th>house_hypterlink</th>\n",
       "    </tr>\n",
       "  </thead>\n",
       "  <tbody>\n",
       "    <tr>\n",
       "      <th>0</th>\n",
       "      <td>Samambaia - Apartamento Padrão - Samambaia Sul...</td>\n",
       "      <td>R$ 152.000</td>\n",
       "      <td>\\n1 quarto\\n38m²\\nCondomínio: R$ 329</td>\n",
       "      <td>Brasília, Samambaia Sul (Samambaia) - DDD 61</td>\n",
       "      <td>https://df.olx.com.br/distrito-federal-e-regia...</td>\n",
       "    </tr>\n",
       "    <tr>\n",
       "      <th>1</th>\n",
       "      <td>Samambaia - Apartamento Padrão - Samambaia Sul...</td>\n",
       "      <td>R$ 408.000</td>\n",
       "      <td>\\n2 quartos\\n65m²\\nCondomínio: R$ 432\\n1 vaga</td>\n",
       "      <td>Brasília, Samambaia Sul (Samambaia) - DDD 61</td>\n",
       "      <td>https://df.olx.com.br/distrito-federal-e-regia...</td>\n",
       "    </tr>\n",
       "    <tr>\n",
       "      <th>2</th>\n",
       "      <td>Samambaia 2 qts! Desocupado! mude já! Próx. Me...</td>\n",
       "      <td>R$ 145.000</td>\n",
       "      <td>\\n2 quartos\\n63m²\\nCondomínio: R$ 10</td>\n",
       "      <td>Brasília, Samambaia Norte (Samambaia) - DDD 61</td>\n",
       "      <td>https://df.olx.com.br/distrito-federal-e-regia...</td>\n",
       "    </tr>\n",
       "    <tr>\n",
       "      <th>3</th>\n",
       "      <td>Samambaia sul, qr 120, apto 2 qtos,varanda, ar...</td>\n",
       "      <td>R$ 190.000</td>\n",
       "      <td>\\n2 quartos\\n55m²\\nCondomínio: R$ 350\\n1 vaga</td>\n",
       "      <td>Brasília, Samambaia Sul (Samambaia) - DDD 61</td>\n",
       "      <td>https://df.olx.com.br/distrito-federal-e-regia...</td>\n",
       "    </tr>\n",
       "    <tr>\n",
       "      <th>4</th>\n",
       "      <td>Samambaia Norte - QR 402 - Casa de 2 Quartos -...</td>\n",
       "      <td>R$ 290.000</td>\n",
       "      <td>\\n2 quartos\\n105m²\\n1 vaga</td>\n",
       "      <td>Brasília, Samambaia Norte (Samambaia) - DDD 61</td>\n",
       "      <td>https://df.olx.com.br/distrito-federal-e-regia...</td>\n",
       "    </tr>\n",
       "  </tbody>\n",
       "</table>\n",
       "</div>"
      ],
      "text/plain": [
       "                                          house_name house_price  \\\n",
       "0  Samambaia - Apartamento Padrão - Samambaia Sul...  R$ 152.000   \n",
       "1  Samambaia - Apartamento Padrão - Samambaia Sul...  R$ 408.000   \n",
       "2  Samambaia 2 qts! Desocupado! mude já! Próx. Me...  R$ 145.000   \n",
       "3  Samambaia sul, qr 120, apto 2 qtos,varanda, ar...  R$ 190.000   \n",
       "4  Samambaia Norte - QR 402 - Casa de 2 Quartos -...  R$ 290.000   \n",
       "\n",
       "                               house_description  \\\n",
       "0           \\n1 quarto\\n38m²\\nCondomínio: R$ 329   \n",
       "1  \\n2 quartos\\n65m²\\nCondomínio: R$ 432\\n1 vaga   \n",
       "2           \\n2 quartos\\n63m²\\nCondomínio: R$ 10   \n",
       "3  \\n2 quartos\\n55m²\\nCondomínio: R$ 350\\n1 vaga   \n",
       "4                     \\n2 quartos\\n105m²\\n1 vaga   \n",
       "\n",
       "                                   house_location  \\\n",
       "0    Brasília, Samambaia Sul (Samambaia) - DDD 61   \n",
       "1    Brasília, Samambaia Sul (Samambaia) - DDD 61   \n",
       "2  Brasília, Samambaia Norte (Samambaia) - DDD 61   \n",
       "3    Brasília, Samambaia Sul (Samambaia) - DDD 61   \n",
       "4  Brasília, Samambaia Norte (Samambaia) - DDD 61   \n",
       "\n",
       "                                    house_hypterlink  \n",
       "0  https://df.olx.com.br/distrito-federal-e-regia...  \n",
       "1  https://df.olx.com.br/distrito-federal-e-regia...  \n",
       "2  https://df.olx.com.br/distrito-federal-e-regia...  \n",
       "3  https://df.olx.com.br/distrito-federal-e-regia...  \n",
       "4  https://df.olx.com.br/distrito-federal-e-regia...  "
      ]
     },
     "execution_count": 13,
     "metadata": {},
     "output_type": "execute_result"
    }
   ],
   "source": [
    "# Reading data from excel file\n",
    "df_houses = pd.read_excel('./data/houses.xlsx', index_col=[0])\n",
    "\n",
    "# Showing first rows of the dataset\n",
    "df_houses.head()"
   ]
  },
  {
   "cell_type": "markdown",
   "id": "115e4015",
   "metadata": {},
   "source": [
    "## 1. Check Dataset House Locations\n",
    "\n",
    "##### The first thing to do is checking whether we are really dealing with Samambaia houses. For that, we can use the command below:"
   ]
  },
  {
   "cell_type": "code",
   "execution_count": 12,
   "id": "39b90dfd",
   "metadata": {},
   "outputs": [
    {
     "data": {
      "text/plain": [
       "array(['Brasília, Samambaia Sul (Samambaia) - DDD 61',\n",
       "       'Brasília, Samambaia Norte (Samambaia) - DDD 61',\n",
       "       'Brasília, Candangolândia - DDD 61',\n",
       "       'Valparaíso de Goiás, Parque Esplanada V - DDD 61',\n",
       "       'Brasília, Ceilândia Sul (Ceilândia) - DDD 61',\n",
       "       'Brasília, Setor Habitacional Arniqueira (Águas Claras) - DDD 61',\n",
       "       'Brasília, Setor Habitacional Vicente Pires - Trecho 3 - DDD 61',\n",
       "       'Brasília, St H Arniqueiras - DDD 61',\n",
       "       'Brasília, Guará II - DDD 61',\n",
       "       'Brasília, Setor Habitacional Vicente Pires - DDD 61',\n",
       "       'Brasília, Ceilândia Norte (Ceilândia) - DDD 61',\n",
       "       'Brasília, Sul (Águas Claras) - DDD 61',\n",
       "       'Brasília, Ceilândia Centro (Ceilândia) - DDD 61',\n",
       "       'Brasília, Cond P L Roriz - DDD 61',\n",
       "       'Brasília, Vila São José (Vicente Pires) - DDD 61',\n",
       "       'Brasília, Riacho Fundo II - DDD 61',\n",
       "       'Brasília, Setor Habitacional Sol Nascente (Ceilândia) - DDD 61',\n",
       "       'Brasilia, Riacho Fundo I - DDD 61',\n",
       "       'Valparaíso de Goiás, Valparaiso II - DDD 61',\n",
       "       'Brasília, Taguatinga Norte (Taguatinga) - DDD 61',\n",
       "       'Valparaíso de Goiás, Parque das Cachoeiras - DDD 61',\n",
       "       'Brasília, Asa Norte - DDD 61', 'Brasília, Santa Maria - DDD 61',\n",
       "       'Valparaíso de Goiás, Setor de Chácaras Anhangüera C - DDD 61',\n",
       "       'Brasília, Samambaia Sul - DDD 61',\n",
       "       'Brasilia, Taguatinga Norte - DDD 61',\n",
       "       'Águas Lindas de Goiás, Mansões Village - DDD 61',\n",
       "       'Brasília, Taguatinga Norte - DDD 61', 'Luziânia - DDD 61',\n",
       "       'Brasília, Asa Sul - DDD 61',\n",
       "       'Brasilia, Setor Habitacional Samambaia (Vicente Pires) - DDD 61',\n",
       "       'Santo Antônio do Descoberto, Centro - DDD 61',\n",
       "       'Brasília, Setor Industrial (Taguatinga) - DDD 61',\n",
       "       'Brasília, Setor Meireles (Santa Maria) - DDD 61',\n",
       "       'Brasília, Taguatinga Sul (Taguatinga) - DDD 61',\n",
       "       'Brasília, St H Samambaia - DDD 61',\n",
       "       'Brasília, Areal (Águas Claras) - DDD 61',\n",
       "       'Brasília, Ceilândia Centro - DDD 61',\n",
       "       'Brasília, Setor de Habitações Individuais Sul - DDD 61',\n",
       "       'Brasília, Samambaia Norte - DDD 61'], dtype=object)"
      ]
     },
     "execution_count": 12,
     "metadata": {},
     "output_type": "execute_result"
    }
   ],
   "source": [
    "df_houses['house_location'].unique()"
   ]
  },
  {
   "cell_type": "markdown",
   "id": "4eff2a65",
   "metadata": {},
   "source": [
    "##### Only these four locations indicate Samambaia addresses."
   ]
  },
  {
   "cell_type": "code",
   "execution_count": 14,
   "id": "93d7d741",
   "metadata": {},
   "outputs": [],
   "source": [
    "houses_location = [\n",
    "        'Brasília, Samambaia Sul (Samambaia) - DDD 61',\n",
    "        'Brasília, Samambaia Norte (Samambaia) - DDD 61',\n",
    "        'Brasília, Samambaia Sul - DDD 61',\n",
    "        'Brasília, Samambaia Norte - DDD 61'\n",
    "]"
   ]
  },
  {
   "cell_type": "markdown",
   "id": "b0f8f2df",
   "metadata": {},
   "source": [
    "## 2. Mark Samambaia Houses\n",
    "\n",
    "##### Create Samambaia column to indicate which rows are samambaia houses or not"
   ]
  },
  {
   "cell_type": "code",
   "execution_count": 22,
   "id": "c5f0501e",
   "metadata": {},
   "outputs": [],
   "source": [
    "df_houses['Samambaia'] = df_houses['house_location'].apply(lambda x: True if x in houses_location else False)"
   ]
  },
  {
   "cell_type": "markdown",
   "id": "45a128e5",
   "metadata": {},
   "source": [
    "##### There are 2926 rows where samambaia equals true. That means we have 2926 houses and apartments in our dataset."
   ]
  },
  {
   "cell_type": "code",
   "execution_count": 37,
   "id": "0b02b31a",
   "metadata": {
    "scrolled": true
   },
   "outputs": [
    {
     "name": "stdout",
     "output_type": "stream",
     "text": [
      "<class 'pandas.core.frame.DataFrame'>\n",
      "Int64Index: 2926 entries, 0 to 3461\n",
      "Data columns (total 6 columns):\n",
      " #   Column             Non-Null Count  Dtype \n",
      "---  ------             --------------  ----- \n",
      " 0   house_name         2926 non-null   object\n",
      " 1   house_price        2926 non-null   object\n",
      " 2   house_description  2923 non-null   object\n",
      " 3   house_location     2926 non-null   object\n",
      " 4   house_hypterlink   2926 non-null   object\n",
      " 5   Samambaia          2926 non-null   bool  \n",
      "dtypes: bool(1), object(5)\n",
      "memory usage: 140.0+ KB\n"
     ]
    }
   ],
   "source": [
    "df_houses[df_houses['Samambaia'] == True].info()"
   ]
  },
  {
   "cell_type": "markdown",
   "id": "d4b88e45",
   "metadata": {},
   "source": [
    "## 3. Filter Samambaia Houses\n",
    "\n",
    "Saving samambaia houses in df_samambaia variable, as show below:"
   ]
  },
  {
   "cell_type": "code",
   "execution_count": 39,
   "id": "892b090e",
   "metadata": {},
   "outputs": [],
   "source": [
    "df_samambaia = df_houses.loc[df_houses['Samambaia'] == True].copy()"
   ]
  },
  {
   "cell_type": "code",
   "execution_count": 41,
   "id": "057f9d80",
   "metadata": {
    "scrolled": true
   },
   "outputs": [
    {
     "data": {
      "text/html": [
       "<div>\n",
       "<style scoped>\n",
       "    .dataframe tbody tr th:only-of-type {\n",
       "        vertical-align: middle;\n",
       "    }\n",
       "\n",
       "    .dataframe tbody tr th {\n",
       "        vertical-align: top;\n",
       "    }\n",
       "\n",
       "    .dataframe thead th {\n",
       "        text-align: right;\n",
       "    }\n",
       "</style>\n",
       "<table border=\"1\" class=\"dataframe\">\n",
       "  <thead>\n",
       "    <tr style=\"text-align: right;\">\n",
       "      <th></th>\n",
       "      <th>house_name</th>\n",
       "      <th>house_price</th>\n",
       "      <th>house_description</th>\n",
       "      <th>house_location</th>\n",
       "      <th>house_hypterlink</th>\n",
       "      <th>Samambaia</th>\n",
       "    </tr>\n",
       "  </thead>\n",
       "  <tbody>\n",
       "    <tr>\n",
       "      <th>0</th>\n",
       "      <td>Samambaia - Apartamento Padrão - Samambaia Sul...</td>\n",
       "      <td>R$ 152.000</td>\n",
       "      <td>\\n1 quarto\\n38m²\\nCondomínio: R$ 329</td>\n",
       "      <td>Brasília, Samambaia Sul (Samambaia) - DDD 61</td>\n",
       "      <td>https://df.olx.com.br/distrito-federal-e-regia...</td>\n",
       "      <td>True</td>\n",
       "    </tr>\n",
       "    <tr>\n",
       "      <th>1</th>\n",
       "      <td>Samambaia - Apartamento Padrão - Samambaia Sul...</td>\n",
       "      <td>R$ 408.000</td>\n",
       "      <td>\\n2 quartos\\n65m²\\nCondomínio: R$ 432\\n1 vaga</td>\n",
       "      <td>Brasília, Samambaia Sul (Samambaia) - DDD 61</td>\n",
       "      <td>https://df.olx.com.br/distrito-federal-e-regia...</td>\n",
       "      <td>True</td>\n",
       "    </tr>\n",
       "    <tr>\n",
       "      <th>2</th>\n",
       "      <td>Samambaia 2 qts! Desocupado! mude já! Próx. Me...</td>\n",
       "      <td>R$ 145.000</td>\n",
       "      <td>\\n2 quartos\\n63m²\\nCondomínio: R$ 10</td>\n",
       "      <td>Brasília, Samambaia Norte (Samambaia) - DDD 61</td>\n",
       "      <td>https://df.olx.com.br/distrito-federal-e-regia...</td>\n",
       "      <td>True</td>\n",
       "    </tr>\n",
       "    <tr>\n",
       "      <th>3</th>\n",
       "      <td>Samambaia sul, qr 120, apto 2 qtos,varanda, ar...</td>\n",
       "      <td>R$ 190.000</td>\n",
       "      <td>\\n2 quartos\\n55m²\\nCondomínio: R$ 350\\n1 vaga</td>\n",
       "      <td>Brasília, Samambaia Sul (Samambaia) - DDD 61</td>\n",
       "      <td>https://df.olx.com.br/distrito-federal-e-regia...</td>\n",
       "      <td>True</td>\n",
       "    </tr>\n",
       "    <tr>\n",
       "      <th>4</th>\n",
       "      <td>Samambaia Norte - QR 402 - Casa de 2 Quartos -...</td>\n",
       "      <td>R$ 290.000</td>\n",
       "      <td>\\n2 quartos\\n105m²\\n1 vaga</td>\n",
       "      <td>Brasília, Samambaia Norte (Samambaia) - DDD 61</td>\n",
       "      <td>https://df.olx.com.br/distrito-federal-e-regia...</td>\n",
       "      <td>True</td>\n",
       "    </tr>\n",
       "  </tbody>\n",
       "</table>\n",
       "</div>"
      ],
      "text/plain": [
       "                                          house_name house_price  \\\n",
       "0  Samambaia - Apartamento Padrão - Samambaia Sul...  R$ 152.000   \n",
       "1  Samambaia - Apartamento Padrão - Samambaia Sul...  R$ 408.000   \n",
       "2  Samambaia 2 qts! Desocupado! mude já! Próx. Me...  R$ 145.000   \n",
       "3  Samambaia sul, qr 120, apto 2 qtos,varanda, ar...  R$ 190.000   \n",
       "4  Samambaia Norte - QR 402 - Casa de 2 Quartos -...  R$ 290.000   \n",
       "\n",
       "                               house_description  \\\n",
       "0           \\n1 quarto\\n38m²\\nCondomínio: R$ 329   \n",
       "1  \\n2 quartos\\n65m²\\nCondomínio: R$ 432\\n1 vaga   \n",
       "2           \\n2 quartos\\n63m²\\nCondomínio: R$ 10   \n",
       "3  \\n2 quartos\\n55m²\\nCondomínio: R$ 350\\n1 vaga   \n",
       "4                     \\n2 quartos\\n105m²\\n1 vaga   \n",
       "\n",
       "                                   house_location  \\\n",
       "0    Brasília, Samambaia Sul (Samambaia) - DDD 61   \n",
       "1    Brasília, Samambaia Sul (Samambaia) - DDD 61   \n",
       "2  Brasília, Samambaia Norte (Samambaia) - DDD 61   \n",
       "3    Brasília, Samambaia Sul (Samambaia) - DDD 61   \n",
       "4  Brasília, Samambaia Norte (Samambaia) - DDD 61   \n",
       "\n",
       "                                    house_hypterlink  Samambaia  \n",
       "0  https://df.olx.com.br/distrito-federal-e-regia...       True  \n",
       "1  https://df.olx.com.br/distrito-federal-e-regia...       True  \n",
       "2  https://df.olx.com.br/distrito-federal-e-regia...       True  \n",
       "3  https://df.olx.com.br/distrito-federal-e-regia...       True  \n",
       "4  https://df.olx.com.br/distrito-federal-e-regia...       True  "
      ]
     },
     "execution_count": 41,
     "metadata": {},
     "output_type": "execute_result"
    }
   ],
   "source": [
    "df_samambaia.head()"
   ]
  },
  {
   "cell_type": "markdown",
   "id": "f4b45a8f",
   "metadata": {},
   "source": [
    "## 4. Create new columns"
   ]
  },
  {
   "cell_type": "code",
   "execution_count": 57,
   "id": "ab534af4",
   "metadata": {},
   "outputs": [
    {
     "data": {
      "text/plain": [
       "['', '1 quarto', '38m²', 'Condomínio: R$ 329']"
      ]
     },
     "execution_count": 57,
     "metadata": {},
     "output_type": "execute_result"
    }
   ],
   "source": [
    "df_samambaia.iloc[0:3, 2:3].values[0][0].split('\\n')"
   ]
  }
 ],
 "metadata": {
  "kernelspec": {
   "display_name": "Python 3 (ipykernel)",
   "language": "python",
   "name": "python3"
  },
  "language_info": {
   "codemirror_mode": {
    "name": "ipython",
    "version": 3
   },
   "file_extension": ".py",
   "mimetype": "text/x-python",
   "name": "python",
   "nbconvert_exporter": "python",
   "pygments_lexer": "ipython3",
   "version": "3.9.13"
  }
 },
 "nbformat": 4,
 "nbformat_minor": 5
}
