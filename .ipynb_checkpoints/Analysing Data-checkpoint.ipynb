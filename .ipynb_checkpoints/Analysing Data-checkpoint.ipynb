{
 "cells": [
  {
   "cell_type": "code",
   "execution_count": 2,
   "id": "555c0ece",
   "metadata": {},
   "outputs": [],
   "source": [
    "import pandas as pd"
   ]
  },
  {
   "cell_type": "code",
   "execution_count": 3,
   "id": "92fa56d9",
   "metadata": {},
   "outputs": [],
   "source": [
    "df_processed_data = pd.read_csv('./data/processed_data.csv', index_col=[0])\n",
    "df_new_data = pd.read_csv('./data/new_data.csv', index_col=[0]) "
   ]
  },
  {
   "cell_type": "code",
   "execution_count": 4,
   "id": "b153f7b6",
   "metadata": {},
   "outputs": [
    {
     "data": {
      "text/html": [
       "<div>\n",
       "<style scoped>\n",
       "    .dataframe tbody tr th:only-of-type {\n",
       "        vertical-align: middle;\n",
       "    }\n",
       "\n",
       "    .dataframe tbody tr th {\n",
       "        vertical-align: top;\n",
       "    }\n",
       "\n",
       "    .dataframe thead th {\n",
       "        text-align: right;\n",
       "    }\n",
       "</style>\n",
       "<table border=\"1\" class=\"dataframe\">\n",
       "  <thead>\n",
       "    <tr style=\"text-align: right;\">\n",
       "      <th></th>\n",
       "      <th>new_house_price</th>\n",
       "      <th>Is_samambaia_norte</th>\n",
       "      <th>n_rooms</th>\n",
       "      <th>has_condominium</th>\n",
       "      <th>value_condominium</th>\n",
       "      <th>has_parking</th>\n",
       "      <th>n_parking</th>\n",
       "      <th>house_size</th>\n",
       "      <th>house_hyperlink</th>\n",
       "    </tr>\n",
       "  </thead>\n",
       "  <tbody>\n",
       "    <tr>\n",
       "      <th>0</th>\n",
       "      <td>152000.0</td>\n",
       "      <td>0</td>\n",
       "      <td>1</td>\n",
       "      <td>1</td>\n",
       "      <td>329.0</td>\n",
       "      <td>0</td>\n",
       "      <td>0</td>\n",
       "      <td>38.0</td>\n",
       "      <td>https://df.olx.com.br/distrito-federal-e-regia...</td>\n",
       "    </tr>\n",
       "    <tr>\n",
       "      <th>1</th>\n",
       "      <td>408000.0</td>\n",
       "      <td>0</td>\n",
       "      <td>2</td>\n",
       "      <td>1</td>\n",
       "      <td>432.0</td>\n",
       "      <td>1</td>\n",
       "      <td>1</td>\n",
       "      <td>65.0</td>\n",
       "      <td>https://df.olx.com.br/distrito-federal-e-regia...</td>\n",
       "    </tr>\n",
       "    <tr>\n",
       "      <th>2</th>\n",
       "      <td>145000.0</td>\n",
       "      <td>1</td>\n",
       "      <td>2</td>\n",
       "      <td>1</td>\n",
       "      <td>10.0</td>\n",
       "      <td>0</td>\n",
       "      <td>0</td>\n",
       "      <td>63.0</td>\n",
       "      <td>https://df.olx.com.br/distrito-federal-e-regia...</td>\n",
       "    </tr>\n",
       "    <tr>\n",
       "      <th>3</th>\n",
       "      <td>190000.0</td>\n",
       "      <td>0</td>\n",
       "      <td>2</td>\n",
       "      <td>1</td>\n",
       "      <td>350.0</td>\n",
       "      <td>1</td>\n",
       "      <td>1</td>\n",
       "      <td>55.0</td>\n",
       "      <td>https://df.olx.com.br/distrito-federal-e-regia...</td>\n",
       "    </tr>\n",
       "    <tr>\n",
       "      <th>4</th>\n",
       "      <td>290000.0</td>\n",
       "      <td>1</td>\n",
       "      <td>2</td>\n",
       "      <td>0</td>\n",
       "      <td>0.0</td>\n",
       "      <td>1</td>\n",
       "      <td>1</td>\n",
       "      <td>105.0</td>\n",
       "      <td>https://df.olx.com.br/distrito-federal-e-regia...</td>\n",
       "    </tr>\n",
       "  </tbody>\n",
       "</table>\n",
       "</div>"
      ],
      "text/plain": [
       "   new_house_price  Is_samambaia_norte  n_rooms  has_condominium  \\\n",
       "0         152000.0                   0        1                1   \n",
       "1         408000.0                   0        2                1   \n",
       "2         145000.0                   1        2                1   \n",
       "3         190000.0                   0        2                1   \n",
       "4         290000.0                   1        2                0   \n",
       "\n",
       "   value_condominium  has_parking  n_parking  house_size  \\\n",
       "0              329.0            0          0        38.0   \n",
       "1              432.0            1          1        65.0   \n",
       "2               10.0            0          0        63.0   \n",
       "3              350.0            1          1        55.0   \n",
       "4                0.0            1          1       105.0   \n",
       "\n",
       "                                     house_hyperlink  \n",
       "0  https://df.olx.com.br/distrito-federal-e-regia...  \n",
       "1  https://df.olx.com.br/distrito-federal-e-regia...  \n",
       "2  https://df.olx.com.br/distrito-federal-e-regia...  \n",
       "3  https://df.olx.com.br/distrito-federal-e-regia...  \n",
       "4  https://df.olx.com.br/distrito-federal-e-regia...  "
      ]
     },
     "execution_count": 4,
     "metadata": {},
     "output_type": "execute_result"
    }
   ],
   "source": [
    "df_processed_data"
   ]
  },
  {
   "cell_type": "code",
   "execution_count": null,
   "id": "9179ea5b",
   "metadata": {},
   "outputs": [],
   "source": []
  }
 ],
 "metadata": {
  "kernelspec": {
   "display_name": "Python 3 (ipykernel)",
   "language": "python",
   "name": "python3"
  },
  "language_info": {
   "codemirror_mode": {
    "name": "ipython",
    "version": 3
   },
   "file_extension": ".py",
   "mimetype": "text/x-python",
   "name": "python",
   "nbconvert_exporter": "python",
   "pygments_lexer": "ipython3",
   "version": "3.9.13"
  }
 },
 "nbformat": 4,
 "nbformat_minor": 5
}
