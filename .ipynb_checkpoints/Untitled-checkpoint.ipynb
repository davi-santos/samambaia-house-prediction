{
 "cells": [
  {
   "cell_type": "code",
   "execution_count": 1,
   "id": "7ec55129",
   "metadata": {},
   "outputs": [],
   "source": [
    "import pandas as pd\n",
    "import plotly.express as px\n",
    "import json\n",
    "import numpy as np"
   ]
  },
  {
   "cell_type": "code",
   "execution_count": 2,
   "id": "e2dab0b0",
   "metadata": {},
   "outputs": [
    {
     "data": {
      "text/html": [
       "<div>\n",
       "<style scoped>\n",
       "    .dataframe tbody tr th:only-of-type {\n",
       "        vertical-align: middle;\n",
       "    }\n",
       "\n",
       "    .dataframe tbody tr th {\n",
       "        vertical-align: top;\n",
       "    }\n",
       "\n",
       "    .dataframe thead th {\n",
       "        text-align: right;\n",
       "    }\n",
       "</style>\n",
       "<table border=\"1\" class=\"dataframe\">\n",
       "  <thead>\n",
       "    <tr style=\"text-align: right;\">\n",
       "      <th></th>\n",
       "      <th>house_price</th>\n",
       "      <th>house_region</th>\n",
       "      <th>n_bedrooms</th>\n",
       "      <th>has_condominium</th>\n",
       "      <th>value_condominium</th>\n",
       "      <th>has_garage</th>\n",
       "      <th>n_garage</th>\n",
       "      <th>house_size</th>\n",
       "      <th>house_hyperlink</th>\n",
       "      <th>house_category</th>\n",
       "      <th>n_bathrooms</th>\n",
       "      <th>zip_code</th>\n",
       "      <th>street_address</th>\n",
       "      <th>metro_distance</th>\n",
       "    </tr>\n",
       "  </thead>\n",
       "  <tbody>\n",
       "    <tr>\n",
       "      <th>1649</th>\n",
       "      <td>335000.0</td>\n",
       "      <td>Sul</td>\n",
       "      <td>2</td>\n",
       "      <td>Com condomínio</td>\n",
       "      <td>0.0</td>\n",
       "      <td>Com garagem</td>\n",
       "      <td>1</td>\n",
       "      <td>50.0</td>\n",
       "      <td>https://df.olx.com.br/distrito-federal-e-regia...</td>\n",
       "      <td>Apartamentos</td>\n",
       "      <td>2</td>\n",
       "      <td>72300533.0</td>\n",
       "      <td>Quadra 301 Conjunto 2</td>\n",
       "      <td>3</td>\n",
       "    </tr>\n",
       "    <tr>\n",
       "      <th>2761</th>\n",
       "      <td>440000.0</td>\n",
       "      <td>Norte</td>\n",
       "      <td>3</td>\n",
       "      <td>Com condomínio</td>\n",
       "      <td>0.0</td>\n",
       "      <td>Com garagem</td>\n",
       "      <td>1</td>\n",
       "      <td>119.0</td>\n",
       "      <td>https://df.olx.com.br/distrito-federal-e-regia...</td>\n",
       "      <td>Apartamentos</td>\n",
       "      <td>2</td>\n",
       "      <td>72318210.0</td>\n",
       "      <td>QR 406 Conjunto 9-A</td>\n",
       "      <td>2</td>\n",
       "    </tr>\n",
       "    <tr>\n",
       "      <th>223</th>\n",
       "      <td>290000.0</td>\n",
       "      <td>Norte</td>\n",
       "      <td>3</td>\n",
       "      <td>Com condomínio</td>\n",
       "      <td>385.0</td>\n",
       "      <td>Com garagem</td>\n",
       "      <td>1</td>\n",
       "      <td>NaN</td>\n",
       "      <td>https://df.olx.com.br/distrito-federal-e-regia...</td>\n",
       "      <td>Apartamentos</td>\n",
       "      <td>2</td>\n",
       "      <td>72318230.0</td>\n",
       "      <td>QR 406 Conjunto 28</td>\n",
       "      <td>2</td>\n",
       "    </tr>\n",
       "    <tr>\n",
       "      <th>106</th>\n",
       "      <td>210000.0</td>\n",
       "      <td>Norte</td>\n",
       "      <td>3</td>\n",
       "      <td>Com condomínio</td>\n",
       "      <td>0.0</td>\n",
       "      <td>Com garagem</td>\n",
       "      <td>1</td>\n",
       "      <td>112.0</td>\n",
       "      <td>https://df.olx.com.br/distrito-federal-e-regia...</td>\n",
       "      <td>Casas</td>\n",
       "      <td>3</td>\n",
       "      <td>72322505.0</td>\n",
       "      <td>QS 602 Conjunto E Comércio</td>\n",
       "      <td>3</td>\n",
       "    </tr>\n",
       "    <tr>\n",
       "      <th>2541</th>\n",
       "      <td>183000.0</td>\n",
       "      <td>Norte</td>\n",
       "      <td>2</td>\n",
       "      <td>Com condomínio</td>\n",
       "      <td>0.0</td>\n",
       "      <td>Com garagem</td>\n",
       "      <td>1</td>\n",
       "      <td>33.0</td>\n",
       "      <td>https://df.olx.com.br/distrito-federal-e-regia...</td>\n",
       "      <td>Apartamentos</td>\n",
       "      <td>1</td>\n",
       "      <td>72321000.0</td>\n",
       "      <td>QR 407</td>\n",
       "      <td>3</td>\n",
       "    </tr>\n",
       "  </tbody>\n",
       "</table>\n",
       "</div>"
      ],
      "text/plain": [
       "      house_price house_region  n_bedrooms has_condominium  value_condominium  \\\n",
       "1649     335000.0          Sul           2  Com condomínio                0.0   \n",
       "2761     440000.0        Norte           3  Com condomínio                0.0   \n",
       "223      290000.0        Norte           3  Com condomínio              385.0   \n",
       "106      210000.0        Norte           3  Com condomínio                0.0   \n",
       "2541     183000.0        Norte           2  Com condomínio                0.0   \n",
       "\n",
       "       has_garage  n_garage  house_size  \\\n",
       "1649  Com garagem         1        50.0   \n",
       "2761  Com garagem         1       119.0   \n",
       "223   Com garagem         1         NaN   \n",
       "106   Com garagem         1       112.0   \n",
       "2541  Com garagem         1        33.0   \n",
       "\n",
       "                                        house_hyperlink house_category  \\\n",
       "1649  https://df.olx.com.br/distrito-federal-e-regia...   Apartamentos   \n",
       "2761  https://df.olx.com.br/distrito-federal-e-regia...   Apartamentos   \n",
       "223   https://df.olx.com.br/distrito-federal-e-regia...   Apartamentos   \n",
       "106   https://df.olx.com.br/distrito-federal-e-regia...          Casas   \n",
       "2541  https://df.olx.com.br/distrito-federal-e-regia...   Apartamentos   \n",
       "\n",
       "     n_bathrooms    zip_code              street_address  metro_distance  \n",
       "1649           2  72300533.0       Quadra 301 Conjunto 2               3  \n",
       "2761           2  72318210.0         QR 406 Conjunto 9-A               2  \n",
       "223            2  72318230.0          QR 406 Conjunto 28               2  \n",
       "106            3  72322505.0  QS 602 Conjunto E Comércio               3  \n",
       "2541           1  72321000.0                      QR 407               3  "
      ]
     },
     "execution_count": 2,
     "metadata": {},
     "output_type": "execute_result"
    }
   ],
   "source": [
    "df = pd.read_csv('./data/train.csv', index_col = [0])\n",
    "\n",
    "df.head(5)"
   ]
  },
  {
   "cell_type": "code",
   "execution_count": 129,
   "id": "14ca3fdc",
   "metadata": {},
   "outputs": [
    {
     "data": {
      "text/html": [
       "<div>\n",
       "<style scoped>\n",
       "    .dataframe tbody tr th:only-of-type {\n",
       "        vertical-align: middle;\n",
       "    }\n",
       "\n",
       "    .dataframe tbody tr th {\n",
       "        vertical-align: top;\n",
       "    }\n",
       "\n",
       "    .dataframe thead th {\n",
       "        text-align: right;\n",
       "    }\n",
       "</style>\n",
       "<table border=\"1\" class=\"dataframe\">\n",
       "  <thead>\n",
       "    <tr style=\"text-align: right;\">\n",
       "      <th></th>\n",
       "      <th>street_address</th>\n",
       "      <th>house_category</th>\n",
       "      <th>house_region</th>\n",
       "      <th>block_address</th>\n",
       "    </tr>\n",
       "  </thead>\n",
       "  <tbody>\n",
       "    <tr>\n",
       "      <th>1649</th>\n",
       "      <td>Quadra 301 Conjunto 2</td>\n",
       "      <td>Apartamentos</td>\n",
       "      <td>Samambaia Sul</td>\n",
       "      <td>Quadra 301</td>\n",
       "    </tr>\n",
       "    <tr>\n",
       "      <th>2761</th>\n",
       "      <td>QR 406 Conjunto 9-A</td>\n",
       "      <td>Apartamentos</td>\n",
       "      <td>Samambaia Norte</td>\n",
       "      <td>QR 406</td>\n",
       "    </tr>\n",
       "    <tr>\n",
       "      <th>223</th>\n",
       "      <td>QR 406 Conjunto 28</td>\n",
       "      <td>Apartamentos</td>\n",
       "      <td>Samambaia Norte</td>\n",
       "      <td>QR 406</td>\n",
       "    </tr>\n",
       "    <tr>\n",
       "      <th>106</th>\n",
       "      <td>QS 602 Conjunto E Comércio</td>\n",
       "      <td>Casas</td>\n",
       "      <td>Samambaia Norte</td>\n",
       "      <td>QS 602</td>\n",
       "    </tr>\n",
       "    <tr>\n",
       "      <th>2541</th>\n",
       "      <td>QR 407</td>\n",
       "      <td>Apartamentos</td>\n",
       "      <td>Samambaia Norte</td>\n",
       "      <td>QR 407</td>\n",
       "    </tr>\n",
       "  </tbody>\n",
       "</table>\n",
       "</div>"
      ],
      "text/plain": [
       "                  street_address house_category     house_region block_address\n",
       "1649       Quadra 301 Conjunto 2   Apartamentos    Samambaia Sul    Quadra 301\n",
       "2761         QR 406 Conjunto 9-A   Apartamentos  Samambaia Norte        QR 406\n",
       "223           QR 406 Conjunto 28   Apartamentos  Samambaia Norte        QR 406\n",
       "106   QS 602 Conjunto E Comércio          Casas  Samambaia Norte        QS 602\n",
       "2541                      QR 407   Apartamentos  Samambaia Norte        QR 407"
      ]
     },
     "execution_count": 129,
     "metadata": {},
     "output_type": "execute_result"
    }
   ],
   "source": [
    "#Filtrando apenas as colunas desejadas\n",
    "df_ = df[['street_address', 'house_category', 'house_region']].dropna().copy()\n",
    "\n",
    "# Settando Samambaia sul e Samambaia norte para as regiões\n",
    "df_['house_region'] = df['house_region']\\\n",
    "                        .apply(lambda region: 'Samambaia Sul' if region == 'Sul' else 'Samambaia Norte')\n",
    "\n",
    "# Pegando apenas a quadra\n",
    "df_['block_address'] = df_['street_address'].apply(lambda x: ' '.join(x.split()[:2]))\n",
    "\n",
    "df_.head(5)"
   ]
  },
  {
   "cell_type": "code",
   "execution_count": 6,
   "id": "f0eef59f",
   "metadata": {},
   "outputs": [
    {
     "data": {
      "text/plain": [
       "'\\n    * Salvando em arquivo. A ideia é salvar as localizações\\n    * da mesma quadra um pouco diferentes por categoria manualmente.\\n    * Ex: casa e apartamento na 210 vao ter pontos um pouco\\n    * diferentes só para separá-los um pouco na hora de plotar.\\n'"
      ]
     },
     "execution_count": 6,
     "metadata": {},
     "output_type": "execute_result"
    }
   ],
   "source": [
    "''' \n",
    "    * Sobre a Samambaia:\n",
    "    * Na samambaia, QR QS e QN são variações de rua da mesma quadra\n",
    "    * QR = residência, QS e QN = comerciais\n",
    "    * Logo, QR 210 e QN 210 são da quadra 210. Para simplificar,\n",
    "    * coloquei tudo na QR 210.\n",
    "    * Essa mudança é apenas pra plotar no mapa.\n",
    "'''\n",
    "\n",
    "def simplify_smb_addresses(block):\n",
    "    block_letter = block.split()[0]\n",
    "    new_block = block\n",
    "    number_block = block.split()[1]\n",
    "    \n",
    "    if block_letter == 'QS':\n",
    "        new_block = 'QR '+number_block\n",
    "    if block_letter == 'QN':\n",
    "        new_block = 'QR ' +number_block\n",
    "    return new_block\n",
    "    \n",
    "# Aplicando a mudança de tudo pra QR\n",
    "df_['block_address'] = df_['block_address'].apply(simplify_smb_addresses)\n",
    "\n",
    "# Juntando quadra com Samambaia norte/sul\n",
    "df_['complete_address'] = df_['block_address'] + '- ' + df_['house_region']\n",
    "\n",
    "addresses = df_[['complete_address', 'house_category']]\n",
    "\n",
    "# Pegando cada endereço e agrupando por categoria\n",
    "addresses = addresses.groupby(['complete_address', 'house_category']).sum().reset_index().copy()\n",
    "\n",
    "'''\n",
    "    * Salvando em arquivo. A ideia é salvar as localizações\n",
    "    * da mesma quadra um pouco diferentes por categoria manualmente.\n",
    "    * Ex: casa e apartamento na 210 vao ter pontos um pouco\n",
    "    * diferentes só para separá-los um pouco na hora de plotar.\n",
    "'''\n",
    "# addresses.to_csv('enderecos.csv')"
   ]
  },
  {
   "cell_type": "code",
   "execution_count": 8,
   "id": "164f5586",
   "metadata": {},
   "outputs": [
    {
     "data": {
      "text/html": [
       "<div>\n",
       "<style scoped>\n",
       "    .dataframe tbody tr th:only-of-type {\n",
       "        vertical-align: middle;\n",
       "    }\n",
       "\n",
       "    .dataframe tbody tr th {\n",
       "        vertical-align: top;\n",
       "    }\n",
       "\n",
       "    .dataframe thead th {\n",
       "        text-align: right;\n",
       "    }\n",
       "</style>\n",
       "<table border=\"1\" class=\"dataframe\">\n",
       "  <thead>\n",
       "    <tr style=\"text-align: right;\">\n",
       "      <th></th>\n",
       "      <th>complete_address</th>\n",
       "      <th>house_category</th>\n",
       "      <th>latitude</th>\n",
       "      <th>longitude</th>\n",
       "    </tr>\n",
       "  </thead>\n",
       "  <tbody>\n",
       "    <tr>\n",
       "      <th>0</th>\n",
       "      <td>ADE Conjunto- Samambaia Sul</td>\n",
       "      <td>Apartamentos</td>\n",
       "      <td>-15.882143905944265, -48.063501412766435</td>\n",
       "      <td>NaN</td>\n",
       "    </tr>\n",
       "    <tr>\n",
       "      <th>1</th>\n",
       "      <td>ADE Conjunto- Samambaia Sul</td>\n",
       "      <td>Casas</td>\n",
       "      <td>-15.882143905944265, -48.063501412766435</td>\n",
       "      <td>NaN</td>\n",
       "    </tr>\n",
       "    <tr>\n",
       "      <th>2</th>\n",
       "      <td>QI 416- Samambaia Norte</td>\n",
       "      <td>Apartamentos</td>\n",
       "      <td>-15.855954181583032, -48.06950116272218</td>\n",
       "      <td>NaN</td>\n",
       "    </tr>\n",
       "    <tr>\n",
       "      <th>3</th>\n",
       "      <td>QI 416- Samambaia Norte</td>\n",
       "      <td>Casas</td>\n",
       "      <td>-15.855044924934832, -48.06887953246958</td>\n",
       "      <td>NaN</td>\n",
       "    </tr>\n",
       "    <tr>\n",
       "      <th>4</th>\n",
       "      <td>QNL 22- Samambaia Norte</td>\n",
       "      <td>Casas</td>\n",
       "      <td>NaN</td>\n",
       "      <td>NaN</td>\n",
       "    </tr>\n",
       "  </tbody>\n",
       "</table>\n",
       "</div>"
      ],
      "text/plain": [
       "              complete_address house_category  \\\n",
       "0  ADE Conjunto- Samambaia Sul   Apartamentos   \n",
       "1  ADE Conjunto- Samambaia Sul          Casas   \n",
       "2      QI 416- Samambaia Norte   Apartamentos   \n",
       "3      QI 416- Samambaia Norte          Casas   \n",
       "4      QNL 22- Samambaia Norte          Casas   \n",
       "\n",
       "                                   latitude  longitude  \n",
       "0  -15.882143905944265, -48.063501412766435        NaN  \n",
       "1  -15.882143905944265, -48.063501412766435        NaN  \n",
       "2   -15.855954181583032, -48.06950116272218        NaN  \n",
       "3   -15.855044924934832, -48.06887953246958        NaN  \n",
       "4                                       NaN        NaN  "
      ]
     },
     "execution_count": 8,
     "metadata": {},
     "output_type": "execute_result"
    }
   ],
   "source": [
    "'''\n",
    "    Depois de ter salvo o arquivo e editado, \n",
    "    colocando as localizações manualmente\n",
    "    olhando no maps, podemos carregá-lo novamente.\n",
    "'''\n",
    "df_enderecos = pd.read_csv('enderecos.csv', index_col = [0])\n",
    "df_enderecos.head(5)"
   ]
  },
  {
   "cell_type": "code",
   "execution_count": 9,
   "id": "0364bb36",
   "metadata": {},
   "outputs": [],
   "source": [
    "# Agora, o objetivo é salvar as coordenadas no dataset total\n",
    "\n",
    "# fazer a coluna all_together iguais em df_ e df_endereços, para pegar as coordenadas e salvar em df_\n",
    "df_['all_together'] = df_['block_address'] + '- ' + df_['house_region'] + '- '+ df_['house_category']\n",
    "df_enderecos['all_together'] = df_enderecos['complete_address'] + '- ' + df_enderecos['house_category']\n",
    "\n",
    "\n",
    "def get_coordinates_from_enderecos(all_together_address):    \n",
    "    return df_enderecos[df_enderecos['all_together'] == all_together_address]['latitude'].values.tolist()\n",
    "    \n",
    "df_['coordinates'] = df_['all_together'].apply(get_coordinates_from_enderecos)"
   ]
  },
  {
   "cell_type": "code",
   "execution_count": 10,
   "id": "2abf41d4",
   "metadata": {},
   "outputs": [
    {
     "data": {
      "text/html": [
       "<div>\n",
       "<style scoped>\n",
       "    .dataframe tbody tr th:only-of-type {\n",
       "        vertical-align: middle;\n",
       "    }\n",
       "\n",
       "    .dataframe tbody tr th {\n",
       "        vertical-align: top;\n",
       "    }\n",
       "\n",
       "    .dataframe thead th {\n",
       "        text-align: right;\n",
       "    }\n",
       "</style>\n",
       "<table border=\"1\" class=\"dataframe\">\n",
       "  <thead>\n",
       "    <tr style=\"text-align: right;\">\n",
       "      <th></th>\n",
       "      <th>house_price</th>\n",
       "      <th>house_region</th>\n",
       "      <th>n_bedrooms</th>\n",
       "      <th>has_condominium</th>\n",
       "      <th>value_condominium</th>\n",
       "      <th>has_garage</th>\n",
       "      <th>n_garage</th>\n",
       "      <th>house_size</th>\n",
       "      <th>house_hyperlink</th>\n",
       "      <th>house_category</th>\n",
       "      <th>n_bathrooms</th>\n",
       "      <th>zip_code</th>\n",
       "      <th>street_address</th>\n",
       "      <th>metro_distance</th>\n",
       "      <th>latitude</th>\n",
       "      <th>longitude</th>\n",
       "      <th>all_together</th>\n",
       "    </tr>\n",
       "  </thead>\n",
       "  <tbody>\n",
       "    <tr>\n",
       "      <th>1649</th>\n",
       "      <td>335000.0</td>\n",
       "      <td>Sul</td>\n",
       "      <td>2</td>\n",
       "      <td>Com condomínio</td>\n",
       "      <td>0.0</td>\n",
       "      <td>Com garagem</td>\n",
       "      <td>1</td>\n",
       "      <td>50.0</td>\n",
       "      <td>https://df.olx.com.br/distrito-federal-e-regia...</td>\n",
       "      <td>Apartamentos</td>\n",
       "      <td>2</td>\n",
       "      <td>72300533.0</td>\n",
       "      <td>Quadra 301 Conjunto 2</td>\n",
       "      <td>3</td>\n",
       "      <td>NaN</td>\n",
       "      <td>NaN</td>\n",
       "      <td>Quadra 301- Samambaia Sul- Apartamentos</td>\n",
       "    </tr>\n",
       "    <tr>\n",
       "      <th>2761</th>\n",
       "      <td>440000.0</td>\n",
       "      <td>Norte</td>\n",
       "      <td>3</td>\n",
       "      <td>Com condomínio</td>\n",
       "      <td>0.0</td>\n",
       "      <td>Com garagem</td>\n",
       "      <td>1</td>\n",
       "      <td>119.0</td>\n",
       "      <td>https://df.olx.com.br/distrito-federal-e-regia...</td>\n",
       "      <td>Apartamentos</td>\n",
       "      <td>2</td>\n",
       "      <td>72318210.0</td>\n",
       "      <td>QR 406 Conjunto 9-A</td>\n",
       "      <td>2</td>\n",
       "      <td>-15.864429527293499</td>\n",
       "      <td>-48.08242791463846</td>\n",
       "      <td>QR 406- Samambaia Norte- Apartamentos</td>\n",
       "    </tr>\n",
       "    <tr>\n",
       "      <th>223</th>\n",
       "      <td>290000.0</td>\n",
       "      <td>Norte</td>\n",
       "      <td>3</td>\n",
       "      <td>Com condomínio</td>\n",
       "      <td>385.0</td>\n",
       "      <td>Com garagem</td>\n",
       "      <td>1</td>\n",
       "      <td>NaN</td>\n",
       "      <td>https://df.olx.com.br/distrito-federal-e-regia...</td>\n",
       "      <td>Apartamentos</td>\n",
       "      <td>2</td>\n",
       "      <td>72318230.0</td>\n",
       "      <td>QR 406 Conjunto 28</td>\n",
       "      <td>2</td>\n",
       "      <td>-15.864429527293499</td>\n",
       "      <td>-48.08242791463846</td>\n",
       "      <td>QR 406- Samambaia Norte- Apartamentos</td>\n",
       "    </tr>\n",
       "    <tr>\n",
       "      <th>106</th>\n",
       "      <td>210000.0</td>\n",
       "      <td>Norte</td>\n",
       "      <td>3</td>\n",
       "      <td>Com condomínio</td>\n",
       "      <td>0.0</td>\n",
       "      <td>Com garagem</td>\n",
       "      <td>1</td>\n",
       "      <td>112.0</td>\n",
       "      <td>https://df.olx.com.br/distrito-federal-e-regia...</td>\n",
       "      <td>Casas</td>\n",
       "      <td>3</td>\n",
       "      <td>72322505.0</td>\n",
       "      <td>QS 602 Conjunto E Comércio</td>\n",
       "      <td>3</td>\n",
       "      <td>-15.861913080256768</td>\n",
       "      <td>-48.091971598995464</td>\n",
       "      <td>QR 602- Samambaia Norte- Casas</td>\n",
       "    </tr>\n",
       "    <tr>\n",
       "      <th>2541</th>\n",
       "      <td>183000.0</td>\n",
       "      <td>Norte</td>\n",
       "      <td>2</td>\n",
       "      <td>Com condomínio</td>\n",
       "      <td>0.0</td>\n",
       "      <td>Com garagem</td>\n",
       "      <td>1</td>\n",
       "      <td>33.0</td>\n",
       "      <td>https://df.olx.com.br/distrito-federal-e-regia...</td>\n",
       "      <td>Apartamentos</td>\n",
       "      <td>1</td>\n",
       "      <td>72321000.0</td>\n",
       "      <td>QR 407</td>\n",
       "      <td>3</td>\n",
       "      <td>-15.876050241346821</td>\n",
       "      <td>-48.10125828557616</td>\n",
       "      <td>QR 407- Samambaia Norte- Apartamentos</td>\n",
       "    </tr>\n",
       "  </tbody>\n",
       "</table>\n",
       "</div>"
      ],
      "text/plain": [
       "      house_price house_region  n_bedrooms has_condominium  value_condominium  \\\n",
       "1649     335000.0          Sul           2  Com condomínio                0.0   \n",
       "2761     440000.0        Norte           3  Com condomínio                0.0   \n",
       "223      290000.0        Norte           3  Com condomínio              385.0   \n",
       "106      210000.0        Norte           3  Com condomínio                0.0   \n",
       "2541     183000.0        Norte           2  Com condomínio                0.0   \n",
       "\n",
       "       has_garage  n_garage  house_size  \\\n",
       "1649  Com garagem         1        50.0   \n",
       "2761  Com garagem         1       119.0   \n",
       "223   Com garagem         1         NaN   \n",
       "106   Com garagem         1       112.0   \n",
       "2541  Com garagem         1        33.0   \n",
       "\n",
       "                                        house_hyperlink house_category  \\\n",
       "1649  https://df.olx.com.br/distrito-federal-e-regia...   Apartamentos   \n",
       "2761  https://df.olx.com.br/distrito-federal-e-regia...   Apartamentos   \n",
       "223   https://df.olx.com.br/distrito-federal-e-regia...   Apartamentos   \n",
       "106   https://df.olx.com.br/distrito-federal-e-regia...          Casas   \n",
       "2541  https://df.olx.com.br/distrito-federal-e-regia...   Apartamentos   \n",
       "\n",
       "     n_bathrooms    zip_code              street_address  metro_distance  \\\n",
       "1649           2  72300533.0       Quadra 301 Conjunto 2               3   \n",
       "2761           2  72318210.0         QR 406 Conjunto 9-A               2   \n",
       "223            2  72318230.0          QR 406 Conjunto 28               2   \n",
       "106            3  72322505.0  QS 602 Conjunto E Comércio               3   \n",
       "2541           1  72321000.0                      QR 407               3   \n",
       "\n",
       "                 latitude             longitude  \\\n",
       "1649                  NaN                   NaN   \n",
       "2761  -15.864429527293499    -48.08242791463846   \n",
       "223   -15.864429527293499    -48.08242791463846   \n",
       "106   -15.861913080256768   -48.091971598995464   \n",
       "2541  -15.876050241346821    -48.10125828557616   \n",
       "\n",
       "                                 all_together  \n",
       "1649  Quadra 301- Samambaia Sul- Apartamentos  \n",
       "2761    QR 406- Samambaia Norte- Apartamentos  \n",
       "223     QR 406- Samambaia Norte- Apartamentos  \n",
       "106            QR 602- Samambaia Norte- Casas  \n",
       "2541    QR 407- Samambaia Norte- Apartamentos  "
      ]
     },
     "execution_count": 10,
     "metadata": {},
     "output_type": "execute_result"
    }
   ],
   "source": [
    "# converter em string\n",
    "df_['coordinates'] = df_['coordinates'].astype(str)\n",
    "\n",
    "# separar em duas colunas\n",
    "df_['latitude'] = df_['coordinates'].apply(lambda x: x.split(',')[0][2:] if x != '[nan]' else np.nan)\n",
    "df_['longitude'] = df_['coordinates'].apply(lambda x: x.split(',')[1][:-2] if x != '[nan]' else np.nan)\n",
    "\n",
    "# salvar de df_ para o df original\n",
    "df['latitude'] = df_['latitude']\n",
    "df['longitude'] = df_['longitude']\n",
    "df['all_together'] = df_['all_together']\n",
    "df.head()"
   ]
  },
  {
   "cell_type": "code",
   "execution_count": 11,
   "id": "48050620",
   "metadata": {},
   "outputs": [
    {
     "data": {
      "text/plain": [
       "1991"
      ]
     },
     "execution_count": 11,
     "metadata": {},
     "output_type": "execute_result"
    }
   ],
   "source": [
    "df.shape[0]"
   ]
  },
  {
   "cell_type": "code",
   "execution_count": 47,
   "id": "576e9e92",
   "metadata": {},
   "outputs": [
    {
     "data": {
      "text/html": [
       "<div>\n",
       "<style scoped>\n",
       "    .dataframe tbody tr th:only-of-type {\n",
       "        vertical-align: middle;\n",
       "    }\n",
       "\n",
       "    .dataframe tbody tr th {\n",
       "        vertical-align: top;\n",
       "    }\n",
       "\n",
       "    .dataframe thead th {\n",
       "        text-align: right;\n",
       "    }\n",
       "</style>\n",
       "<table border=\"1\" class=\"dataframe\">\n",
       "  <thead>\n",
       "    <tr style=\"text-align: right;\">\n",
       "      <th></th>\n",
       "      <th>house_category</th>\n",
       "      <th>latitude</th>\n",
       "      <th>longitude</th>\n",
       "      <th>house_price</th>\n",
       "      <th>0</th>\n",
       "    </tr>\n",
       "  </thead>\n",
       "  <tbody>\n",
       "    <tr>\n",
       "      <th>0</th>\n",
       "      <td>Apartamentos</td>\n",
       "      <td>-15.85281492934229</td>\n",
       "      <td>-48.07376479162934</td>\n",
       "      <td>209214.285714</td>\n",
       "      <td>4</td>\n",
       "    </tr>\n",
       "    <tr>\n",
       "      <th>1</th>\n",
       "      <td>Apartamentos</td>\n",
       "      <td>-15.854471390078723</td>\n",
       "      <td>-48.07604798580723</td>\n",
       "      <td>260000.000000</td>\n",
       "      <td>2</td>\n",
       "    </tr>\n",
       "    <tr>\n",
       "      <th>2</th>\n",
       "      <td>Apartamentos</td>\n",
       "      <td>-15.855954181583032</td>\n",
       "      <td>-48.06950116272218</td>\n",
       "      <td>320931.655172</td>\n",
       "      <td>2</td>\n",
       "    </tr>\n",
       "    <tr>\n",
       "      <th>3</th>\n",
       "      <td>Apartamentos</td>\n",
       "      <td>-15.857003580474384</td>\n",
       "      <td>-48.08264080274787</td>\n",
       "      <td>282450.000000</td>\n",
       "      <td>1</td>\n",
       "    </tr>\n",
       "    <tr>\n",
       "      <th>4</th>\n",
       "      <td>Apartamentos</td>\n",
       "      <td>-15.858894728758774</td>\n",
       "      <td>-48.0713784436007</td>\n",
       "      <td>181666.666667</td>\n",
       "      <td>1</td>\n",
       "    </tr>\n",
       "    <tr>\n",
       "      <th>...</th>\n",
       "      <td>...</td>\n",
       "      <td>...</td>\n",
       "      <td>...</td>\n",
       "      <td>...</td>\n",
       "      <td>...</td>\n",
       "    </tr>\n",
       "    <tr>\n",
       "      <th>192</th>\n",
       "      <td>Casas</td>\n",
       "      <td>-15.895386772393941</td>\n",
       "      <td>-48.117456544170416</td>\n",
       "      <td>102450.000000</td>\n",
       "      <td>1</td>\n",
       "    </tr>\n",
       "    <tr>\n",
       "      <th>193</th>\n",
       "      <td>Casas</td>\n",
       "      <td>-15.895469072861</td>\n",
       "      <td>-48.1467768004504</td>\n",
       "      <td>83960.000000</td>\n",
       "      <td>1</td>\n",
       "    </tr>\n",
       "    <tr>\n",
       "      <th>194</th>\n",
       "      <td>Casas</td>\n",
       "      <td>-15.896501853581654</td>\n",
       "      <td>-48.11368183905732</td>\n",
       "      <td>363333.333333</td>\n",
       "      <td>1</td>\n",
       "    </tr>\n",
       "    <tr>\n",
       "      <th>195</th>\n",
       "      <td>Casas</td>\n",
       "      <td>-15.896689896573</td>\n",
       "      <td>-48.12045088732199</td>\n",
       "      <td>220000.000000</td>\n",
       "      <td>1</td>\n",
       "    </tr>\n",
       "    <tr>\n",
       "      <th>196</th>\n",
       "      <td>Casas</td>\n",
       "      <td>-15.8993399951858</td>\n",
       "      <td>-48.12600966729613</td>\n",
       "      <td>250000.000000</td>\n",
       "      <td>1</td>\n",
       "    </tr>\n",
       "  </tbody>\n",
       "</table>\n",
       "<p>197 rows × 5 columns</p>\n",
       "</div>"
      ],
      "text/plain": [
       "    house_category             latitude             longitude    house_price  \\\n",
       "0     Apartamentos   -15.85281492934229    -48.07376479162934  209214.285714   \n",
       "1     Apartamentos  -15.854471390078723    -48.07604798580723  260000.000000   \n",
       "2     Apartamentos  -15.855954181583032    -48.06950116272218  320931.655172   \n",
       "3     Apartamentos  -15.857003580474384    -48.08264080274787  282450.000000   \n",
       "4     Apartamentos  -15.858894728758774     -48.0713784436007  181666.666667   \n",
       "..             ...                  ...                   ...            ...   \n",
       "192          Casas  -15.895386772393941   -48.117456544170416  102450.000000   \n",
       "193          Casas     -15.895469072861     -48.1467768004504   83960.000000   \n",
       "194          Casas  -15.896501853581654    -48.11368183905732  363333.333333   \n",
       "195          Casas     -15.896689896573    -48.12045088732199  220000.000000   \n",
       "196          Casas    -15.8993399951858    -48.12600966729613  250000.000000   \n",
       "\n",
       "     0  \n",
       "0    4  \n",
       "1    2  \n",
       "2    2  \n",
       "3    1  \n",
       "4    1  \n",
       "..  ..  \n",
       "192  1  \n",
       "193  1  \n",
       "194  1  \n",
       "195  1  \n",
       "196  1  \n",
       "\n",
       "[197 rows x 5 columns]"
      ]
     },
     "execution_count": 47,
     "metadata": {},
     "output_type": "execute_result"
    }
   ],
   "source": [
    "# Remover endereços com locais nulos no sample\n",
    "df_sample = df[~df['latitude'].isna() & ~df['longitude'].isna()]\n",
    "\n",
    "# Escolher colunas que queremos ver\n",
    "cols = ['house_category', 'latitude', 'longitude', 'house_price']\n",
    "\n",
    "# #pegar local, lat e lon e calcular média dos preço, salvos em house_price\n",
    "df_search = df_sample[cols].groupby(['house_category', 'latitude', 'longitude']).mean().reset_index()\n",
    "\n",
    "# # take the number of houses by location and catogory\n",
    "df_search[0] = df_sample[cols].groupby(['house_category', 'latitude', 'longitude']).value_counts().reset_index()[0]\n",
    "\n",
    "df_search"
   ]
  },
  {
   "cell_type": "code",
   "execution_count": 28,
   "id": "9edd3783",
   "metadata": {},
   "outputs": [
    {
     "data": {
      "text/plain": [
       "house_category    0\n",
       "latitude          0\n",
       "longitude         0\n",
       "house_price       0\n",
       "n_houses          0\n",
       "dtype: int64"
      ]
     },
     "execution_count": 28,
     "metadata": {},
     "output_type": "execute_result"
    }
   ],
   "source": [
    "df_search.isnull().sum()"
   ]
  },
  {
   "cell_type": "code",
   "execution_count": 124,
   "id": "b7963afa",
   "metadata": {},
   "outputs": [
    {
     "data": {
      "application/vnd.plotly.v1+json": {
       "config": {
        "plotlyServerURL": "https://plot.ly"
       },
       "data": [
        {
         "hovertemplate": "0=%{marker.size}<br>latitude=%{lat}<br>longitude=%{lon}<br>house_price=%{marker.color}<extra></extra>",
         "lat": [
          "-15.85281492934229",
          "-15.854471390078723",
          "-15.855954181583032",
          "-15.857003580474384",
          "-15.858894728758774",
          "-15.859811710860406",
          "-15.860899954620459",
          "-15.862544525189197",
          "-15.862810942571167",
          "-15.863758482999485",
          "-15.86377344649297",
          "-15.864429527293499",
          "-15.86498246497334",
          "-15.866249499838348",
          "-15.866427096955162",
          "-15.866467705125428",
          "-15.867567088365508",
          "-15.867704339258456",
          "-15.86787945426569",
          "-15.868191443333105",
          "-15.868567239188385",
          "-15.870089915410876",
          "-15.870267828033931",
          "-15.870504905684792",
          "-15.870714012953641",
          "-15.870769824111989",
          "-15.870956536689437",
          "-15.87168084960523",
          "-15.87229126766909",
          "-15.872906260495819",
          "-15.872934485864539",
          "-15.873270913201631",
          "-15.873415321921176",
          "-15.873544637849974",
          "-15.874505597460054",
          "-15.874921709043127",
          "-15.875483241716069",
          "-15.875859755334085",
          "-15.876050241346821",
          "-15.876737115665238",
          "-15.877402674085562",
          "-15.878436310255644",
          "-15.878920735602435",
          "-15.87905182654271",
          "-15.87917262754653",
          "-15.879255177780205",
          "-15.880774329428991",
          "-15.880858576919632",
          "-15.881223868482165",
          "-15.882072521898367",
          "-15.882143905944265",
          "-15.882230483116414",
          "-15.883275074574149",
          "-15.883679579015485",
          "-15.883844754818588",
          "-15.88451055143896",
          "-15.884706489237438",
          "-15.885092179524374",
          "-15.885313464545222",
          "-15.885333361721543",
          "-15.885865743653508",
          "-15.886141129453447",
          "-15.886321498854747",
          "-15.886609512227091",
          "-15.887156915050575",
          "-15.88721951164377",
          "-15.888152489411452",
          "-15.88869322039697",
          "-15.888916348398105",
          "-15.889615608944593",
          "-15.891247238229269",
          "-15.891776697860314",
          "-15.891883248037917",
          "-15.891968728029996",
          "-15.892481819386818",
          "-15.894289969286815",
          "-15.89508490988754",
          "-15.895729658752451",
          "-15.896158968539169",
          "-15.851932500574971",
          "-15.854094684286784",
          "-15.855044924934832",
          "-15.855268244822634",
          "-15.856503032332279",
          "-15.857542742568548",
          "-15.858012381637142",
          "-15.858449911503671",
          "-15.8591555086571",
          "-15.860150038861736",
          "-15.860769284461055",
          "-15.861913080256768",
          "-15.862891790646822",
          "-15.863100158437765",
          "-15.864344277991682",
          "-15.86494717304739",
          "-15.86530977672352",
          "-15.865980136247062",
          "-15.866307259725222",
          "-15.866898466576371",
          "-15.866979173793517",
          "-15.867649385377758",
          "-15.868219059688109",
          "-15.868376167444241",
          "-15.869073794679796",
          "-15.869261345322371",
          "-15.869343921435384",
          "-15.869910407195048",
          "-15.870328949155228",
          "-15.87134611859877",
          "-15.871735186843207",
          "-15.871753814596568",
          "-15.872823165009999",
          "-15.873048289383961",
          "-15.873146297009486",
          "-15.873970625279675",
          "-15.87411524884355",
          "-15.874245545749314",
          "-15.874322573005268",
          "-15.874838813270504",
          "-15.87490476333859",
          "-15.875172413590613",
          "-15.875440802542585",
          "-15.87628690321509",
          "-15.876344180008788",
          "-15.877174384906173",
          "-15.877221489273946",
          "-15.877394595400173",
          "-15.877479853609502",
          "-15.878140616941456",
          "-15.878486871044082",
          "-15.879102834660232",
          "-15.879682439345114",
          "-15.879918745306743",
          "-15.879952682070021",
          "-15.88003447407259",
          "-15.880057896558048",
          "-15.881438762833806",
          "-15.88154092836035",
          "-15.881603608688964",
          "-15.881820279817644",
          "-15.88193830368694",
          "-15.88200886401925",
          "-15.882143905944265",
          "-15.882608987318113",
          "-15.882882754918217",
          "-15.882977480164952",
          "-15.883009151220076",
          "-15.883179859217234",
          "-15.883370714052091",
          "-15.883518401146691",
          "-15.883935343304458",
          "-15.883940533991977",
          "-15.884189308889953",
          "-15.88424268602474",
          "-15.884813588319249",
          "-15.885009356251565",
          "-15.8851399022477",
          "-15.88536392568552",
          "-15.885914546396833",
          "-15.885925087934142",
          "-15.886095551940185",
          "-15.88638065423701",
          "-15.886719306891207",
          "-15.886934327009703",
          "-15.887207722096905",
          "-15.88764017047797",
          "-15.887852615144755",
          "-15.888406615173203",
          "-15.888629228717877",
          "-15.88883430655705",
          "-15.888837724286343",
          "-15.889795701334274",
          "-15.890086644152207",
          "-15.890286041628375",
          "-15.8906866013751",
          "-15.890770484521905",
          "-15.891161681847912",
          "-15.891386139453608",
          "-15.891402182996318",
          "-15.891832465031948",
          "-15.89191944671329",
          "-15.892746009847924",
          "-15.892960082576872",
          "-15.892994122974757",
          "-15.893083345529146",
          "-15.893673743048726",
          "-15.893833867742408",
          "-15.894111523792267",
          "-15.894233396228005",
          "-15.895217431639853",
          "-15.895345148718699",
          "-15.895386772393941",
          "-15.895469072861",
          "-15.896501853581654",
          "-15.896689896573",
          "-15.8993399951858"
         ],
         "legendgroup": "",
         "lon": [
          " -48.07376479162934",
          " -48.07604798580723",
          " -48.06950116272218",
          " -48.08264080274787",
          " -48.0713784436007",
          " -48.074294258914115",
          " -48.07705924177919",
          " -48.09143683974839",
          " -48.079925793846854",
          " -48.07577624519392",
          " -48.07199773554532",
          " -48.08242791463846",
          " -48.0961597443023",
          " -48.0981314141128",
          " -48.08553938970009",
          " -48.06214192392817",
          " -48.06461684259848",
          " -48.05682546940082",
          " -48.0877750569753",
          " -48.07696737196877",
          " -48.06719182270189",
          " -48.074450834111495",
          " -48.06844180875772",
          " -48.093427273723606",
          " -48.08304941476127",
          " -48.077487324960856",
          " -48.071726164270686",
          " -48.09594620635299",
          " -48.06316956115106",
          " -48.08239049706196",
          " -48.0646370380746",
          " -48.079253147221706",
          " -48.105770671567214",
          " -48.06795949904651",
          " -48.06054300742409",
          " -48.0991690383578",
          " -48.10555950870533",
          " -48.09319603509419",
          " -48.10125828557616",
          " -48.06993093234583",
          " -48.07166969799305",
          " -48.07479242022789",
          " -48.077025374520616",
          " -48.0941768312436",
          " -48.107506711190055",
          " -48.08058625789296",
          " -48.12046765203356",
          " -48.11269033812178",
          " -48.07401905585764",
          " -48.09155373078865",
          " -48.063501412766435",
          " -48.077875408342464",
          " -48.10221933290608",
          " -48.125353078289976",
          " -48.0824103323485",
          " -48.10504851040007",
          " -48.12875246427392",
          " -48.09829122824255",
          " -48.10826339265746",
          " -48.121331660618026",
          " -48.08919442364523",
          " -48.15090046318128",
          " -48.09566450801294",
          " -48.14796306814208",
          " -48.14726425355604",
          " -48.091522091967526",
          " -48.09958994048566",
          " -48.10345957184157",
          " -48.1067838885328",
          " -48.09442098601877",
          " -48.096077966223184",
          " -48.104974127992996",
          " -48.09931517222642",
          " -48.122775282000774",
          " -48.136293329761465",
          " -48.110939219366486",
          " -48.142538939620756",
          " -48.114169312669894",
          " -48.11739441518057",
          " -48.07449435244879",
          " -48.07652005457276",
          " -48.06887953246958",
          " -48.07878994875818",
          " -48.08306995617108",
          " -48.07193634305087",
          " -48.085856894840575",
          " -48.07489680265195",
          " -48.07781388393629",
          " -48.08853992643308",
          " -48.08115716155888",
          " -48.091971598995464",
          " -48.07278540578079",
          " -48.083494849813604",
          " -48.09651061152601",
          " -48.08639348082362",
          " -48.09867253348901",
          " -48.074856779742994",
          " -48.08834855531934",
          " -48.05842229184415",
          " -48.077716734438376",
          " -48.06217117362418",
          " -48.08074115350348",
          " -48.06383306149591",
          " -48.10215697555955",
          " -48.09402396752223",
          " -48.06719633362168",
          " -48.08299878139798",
          " -48.09717465802693",
          " -48.074266769002605",
          " -48.07682780183796",
          " -48.10380545382008",
          " -48.06078870487059",
          " -48.09987078095621",
          " -48.062629516874",
          " -48.109804201339365",
          " -48.081998606510666",
          " -48.065339030753876",
          " -48.117607283719614",
          " -48.06716975728233",
          " -48.1018322782797",
          " -48.09397966661189",
          " -48.07044708085841",
          " -48.07221390651939",
          " -48.104958015049554",
          " -48.118823822317914",
          " -48.09722524415772",
          " -48.07725955301243",
          " -48.07537646276072",
          " -48.10860095074429",
          " -48.12302894952972",
          " -48.11158794203517",
          " -48.124676278673064",
          " -48.10273516606713",
          " -48.11373162729978",
          " -48.06303214526124",
          " -48.06552155840925",
          " -48.068582001789395",
          " -48.11651788926065",
          " -48.12742685525665",
          " -48.10709608565132",
          " -48.07073800075385",
          " -48.09991338565928",
          " -48.063501412766435",
          " -48.11947559826455",
          " -48.09284656730632",
          " -48.10956484232961",
          " -48.13032493291954",
          " -48.073295831342946",
          " -48.11188239843845",
          " -48.07572232782848",
          " -48.078986896790894",
          " -48.122256674207804",
          " -48.145141754082715",
          " -48.11213452606561",
          " -48.09557675892803",
          " -48.14666755529745",
          " -48.124179267941564",
          " -48.08177853891466",
          " -48.14853208624515",
          " -48.15017403191548",
          " -48.10758479971",
          " -48.09734353812553",
          " -48.12779199022573",
          " -48.10022978584141",
          " -48.1459632906555",
          " -48.089020689311106",
          " -48.14627588584832",
          " -48.120955895384036",
          " -48.14611332396394",
          " -48.090855198898474",
          " -48.143464686877074",
          " -48.124362343442726",
          " -48.10608774579253",
          " -48.14634989449299",
          " -48.09376624204893",
          " -48.126599871945565",
          " -48.148105079874156",
          " -48.108849013894684",
          " -48.119723652888055",
          " -48.10133256223572",
          " -48.13729111147043",
          " -48.1112229150226",
          " -48.12270109904582",
          " -48.14091306842818",
          " -48.10418527752632",
          " -48.14385309685865",
          " -48.107498734595225",
          " -48.125614746421604",
          " -48.115230619631824",
          " -48.12776885630337",
          " -48.11025205094176",
          " -48.117456544170416",
          " -48.1467768004504",
          " -48.11368183905732",
          " -48.12045088732199",
          " -48.12600966729613"
         ],
         "marker": {
          "color": [
           209214.2857142857,
           260000,
           320931.6551724138,
           282450,
           181666.66666666666,
           212223.07692307694,
           237723.29411764705,
           145000,
           204263.18181818182,
           168300,
           228040,
           283206.4827586207,
           383475,
           116000,
           231633.33333333334,
           263337.95454545453,
           115737.5,
           314500,
           202780.1,
           188998.88888888888,
           180831.33333333334,
           203320.57142857142,
           250000,
           320998.75,
           145000,
           135112.625,
           174999.5,
           218500,
           161000,
           158500,
           223500,
           148932.58333333334,
           75000,
           100000,
           202655.6883116883,
           79900,
           143800,
           283300,
           169610.87719298244,
           136445.45454545456,
           49000,
           221985.7142857143,
           150000,
           311666.6666666667,
           126178,
           210000,
           267500,
           230000,
           237500,
           246372.79166666666,
           200000,
           80000,
           239000,
           150000,
           337500,
           58300,
           153000,
           78725,
           247788,
           90390.90909090909,
           209250,
           139000,
           158475,
           259000,
           384760,
           70000,
           114340,
           160000,
           195000,
           82350,
           46966.666666666664,
           219000,
           140000,
           165000,
           69700,
           214945,
           149831.66666666666,
           368000,
           205559.43,
           340000,
           244622.5,
           350000,
           370000,
           323333.3333333333,
           385700,
           224662.5,
           324909.0909090909,
           322838.09523809527,
           350000,
           311250,
           328612.375,
           420000,
           372750,
           285000,
           225375,
           292888.27777777775,
           318166.6666666667,
           349103.7037037037,
           535756.1666666666,
           383666.6666666667,
           520000,
           379866.6666666667,
           78000,
           145666.66666666666,
           339450,
           280000,
           281225,
           225000,
           374999.6666666667,
           236000,
           190000,
           424000,
           359000,
           395607.6923076923,
           175000,
           296740,
           309166.6666666667,
           177428.57142857142,
           246666.66666666666,
           192500,
           325900,
           270000,
           170000,
           260000,
           110000,
           228444.22222222222,
           250000,
           399750,
           271415,
           190000,
           237937.375,
           95000,
           227500,
           213433.33333333334,
           404375,
           245080,
           249333.33333333334,
           237128.57142857142,
           157800,
           193333.33333333334,
           254990,
           200000,
           235000,
           243600,
           360000,
           70900,
           130000,
           343333.3333333333,
           283333.3333333333,
           290000,
           215000,
           192940,
           121333.33333333333,
           310000,
           386666.6666666667,
           110000,
           214835.7142857143,
           300998.75,
           110000,
           240000,
           175000,
           431666.6666666667,
           158593.33333333334,
           278166.6666666667,
           85000,
           275000,
           41666.666666666664,
           187166.66666666666,
           136000,
           340000,
           53266.666666666664,
           241000,
           198772.22222222222,
           168300,
           136833.33333333334,
           75000,
           272000,
           116749.625,
           113333.33333333333,
           217428.57142857142,
           69800,
           390000,
           160000,
           107500,
           225000,
           194980,
           273526.6666666667,
           165000,
           285000,
           87778,
           196633.33333333334,
           102450,
           83960,
           363333.3333333333,
           220000,
           250000
          ],
          "coloraxis": "coloraxis",
          "size": [
           4,
           2,
           2,
           1,
           1,
           1,
           1,
           1,
           1,
           1,
           1,
           3,
           3,
           2,
           2,
           1,
           1,
           1,
           1,
           1,
           1,
           1,
           1,
           1,
           1,
           1,
           1,
           1,
           1,
           1,
           1,
           1,
           1,
           1,
           1,
           1,
           1,
           1,
           1,
           3,
           2,
           2,
           1,
           1,
           1,
           1,
           1,
           1,
           5,
           2,
           2,
           1,
           1,
           1,
           1,
           1,
           1,
           1,
           1,
           1,
           1,
           3,
           2,
           2,
           1,
           1,
           1,
           1,
           1,
           1,
           1,
           1,
           1,
           1,
           1,
           1,
           1,
           1,
           1,
           2,
           1,
           3,
           2,
           1,
           1,
           1,
           1,
           9,
           3,
           2,
           2,
           2,
           1,
           1,
           1,
           1,
           1,
           1,
           1,
           1,
           1,
           1,
           1,
           1,
           1,
           1,
           1,
           1,
           1,
           1,
           1,
           1,
           6,
           3,
           2,
           2,
           1,
           1,
           1,
           1,
           1,
           1,
           1,
           1,
           2,
           2,
           1,
           1,
           1,
           1,
           1,
           1,
           1,
           1,
           2,
           2,
           2,
           1,
           1,
           1,
           1,
           3,
           1,
           1,
           1,
           1,
           1,
           1,
           3,
           1,
           1,
           1,
           1,
           1,
           1,
           1,
           1,
           1,
           1,
           1,
           2,
           2,
           1,
           1,
           1,
           1,
           1,
           1,
           1,
           1,
           1,
           1,
           1,
           1,
           1,
           1,
           1,
           1,
           1,
           1,
           1,
           1,
           1,
           1,
           1,
           1,
           3,
           1,
           1,
           1,
           1,
           1,
           1,
           1,
           1,
           1
          ],
          "sizemode": "area",
          "sizeref": 0.0225
         },
         "mode": "markers",
         "name": "",
         "showlegend": false,
         "subplot": "mapbox",
         "type": "scattermapbox"
        }
       ],
       "layout": {
        "coloraxis": {
         "colorbar": {
          "title": {
           "text": "house_price"
          }
         },
         "colorscale": [
          [
           0,
           "rgb(12,51,131)"
          ],
          [
           0.25,
           "rgb(10,136,186)"
          ],
          [
           0.5,
           "rgb(242,211,56)"
          ],
          [
           0.75,
           "rgb(242,143,56)"
          ],
          [
           1,
           "rgb(217,30,30)"
          ]
         ]
        },
        "legend": {
         "itemsizing": "constant",
         "tracegroupgap": 0
        },
        "mapbox": {
         "center": {
          "lat": -15.878191211624543,
          "lon": -48.10520207922798
         },
         "domain": {
          "x": [
           0,
           1
          ],
          "y": [
           0,
           1
          ]
         },
         "style": "carto-positron",
         "zoom": 12.5
        },
        "margin": {
         "b": 0,
         "l": 0,
         "r": 0,
         "t": 0
        },
        "template": {
         "data": {
          "bar": [
           {
            "error_x": {
             "color": "#2a3f5f"
            },
            "error_y": {
             "color": "#2a3f5f"
            },
            "marker": {
             "line": {
              "color": "#E5ECF6",
              "width": 0.5
             },
             "pattern": {
              "fillmode": "overlay",
              "size": 10,
              "solidity": 0.2
             }
            },
            "type": "bar"
           }
          ],
          "barpolar": [
           {
            "marker": {
             "line": {
              "color": "#E5ECF6",
              "width": 0.5
             },
             "pattern": {
              "fillmode": "overlay",
              "size": 10,
              "solidity": 0.2
             }
            },
            "type": "barpolar"
           }
          ],
          "carpet": [
           {
            "aaxis": {
             "endlinecolor": "#2a3f5f",
             "gridcolor": "white",
             "linecolor": "white",
             "minorgridcolor": "white",
             "startlinecolor": "#2a3f5f"
            },
            "baxis": {
             "endlinecolor": "#2a3f5f",
             "gridcolor": "white",
             "linecolor": "white",
             "minorgridcolor": "white",
             "startlinecolor": "#2a3f5f"
            },
            "type": "carpet"
           }
          ],
          "choropleth": [
           {
            "colorbar": {
             "outlinewidth": 0,
             "ticks": ""
            },
            "type": "choropleth"
           }
          ],
          "contour": [
           {
            "colorbar": {
             "outlinewidth": 0,
             "ticks": ""
            },
            "colorscale": [
             [
              0,
              "#0d0887"
             ],
             [
              0.1111111111111111,
              "#46039f"
             ],
             [
              0.2222222222222222,
              "#7201a8"
             ],
             [
              0.3333333333333333,
              "#9c179e"
             ],
             [
              0.4444444444444444,
              "#bd3786"
             ],
             [
              0.5555555555555556,
              "#d8576b"
             ],
             [
              0.6666666666666666,
              "#ed7953"
             ],
             [
              0.7777777777777778,
              "#fb9f3a"
             ],
             [
              0.8888888888888888,
              "#fdca26"
             ],
             [
              1,
              "#f0f921"
             ]
            ],
            "type": "contour"
           }
          ],
          "contourcarpet": [
           {
            "colorbar": {
             "outlinewidth": 0,
             "ticks": ""
            },
            "type": "contourcarpet"
           }
          ],
          "heatmap": [
           {
            "colorbar": {
             "outlinewidth": 0,
             "ticks": ""
            },
            "colorscale": [
             [
              0,
              "#0d0887"
             ],
             [
              0.1111111111111111,
              "#46039f"
             ],
             [
              0.2222222222222222,
              "#7201a8"
             ],
             [
              0.3333333333333333,
              "#9c179e"
             ],
             [
              0.4444444444444444,
              "#bd3786"
             ],
             [
              0.5555555555555556,
              "#d8576b"
             ],
             [
              0.6666666666666666,
              "#ed7953"
             ],
             [
              0.7777777777777778,
              "#fb9f3a"
             ],
             [
              0.8888888888888888,
              "#fdca26"
             ],
             [
              1,
              "#f0f921"
             ]
            ],
            "type": "heatmap"
           }
          ],
          "heatmapgl": [
           {
            "colorbar": {
             "outlinewidth": 0,
             "ticks": ""
            },
            "colorscale": [
             [
              0,
              "#0d0887"
             ],
             [
              0.1111111111111111,
              "#46039f"
             ],
             [
              0.2222222222222222,
              "#7201a8"
             ],
             [
              0.3333333333333333,
              "#9c179e"
             ],
             [
              0.4444444444444444,
              "#bd3786"
             ],
             [
              0.5555555555555556,
              "#d8576b"
             ],
             [
              0.6666666666666666,
              "#ed7953"
             ],
             [
              0.7777777777777778,
              "#fb9f3a"
             ],
             [
              0.8888888888888888,
              "#fdca26"
             ],
             [
              1,
              "#f0f921"
             ]
            ],
            "type": "heatmapgl"
           }
          ],
          "histogram": [
           {
            "marker": {
             "pattern": {
              "fillmode": "overlay",
              "size": 10,
              "solidity": 0.2
             }
            },
            "type": "histogram"
           }
          ],
          "histogram2d": [
           {
            "colorbar": {
             "outlinewidth": 0,
             "ticks": ""
            },
            "colorscale": [
             [
              0,
              "#0d0887"
             ],
             [
              0.1111111111111111,
              "#46039f"
             ],
             [
              0.2222222222222222,
              "#7201a8"
             ],
             [
              0.3333333333333333,
              "#9c179e"
             ],
             [
              0.4444444444444444,
              "#bd3786"
             ],
             [
              0.5555555555555556,
              "#d8576b"
             ],
             [
              0.6666666666666666,
              "#ed7953"
             ],
             [
              0.7777777777777778,
              "#fb9f3a"
             ],
             [
              0.8888888888888888,
              "#fdca26"
             ],
             [
              1,
              "#f0f921"
             ]
            ],
            "type": "histogram2d"
           }
          ],
          "histogram2dcontour": [
           {
            "colorbar": {
             "outlinewidth": 0,
             "ticks": ""
            },
            "colorscale": [
             [
              0,
              "#0d0887"
             ],
             [
              0.1111111111111111,
              "#46039f"
             ],
             [
              0.2222222222222222,
              "#7201a8"
             ],
             [
              0.3333333333333333,
              "#9c179e"
             ],
             [
              0.4444444444444444,
              "#bd3786"
             ],
             [
              0.5555555555555556,
              "#d8576b"
             ],
             [
              0.6666666666666666,
              "#ed7953"
             ],
             [
              0.7777777777777778,
              "#fb9f3a"
             ],
             [
              0.8888888888888888,
              "#fdca26"
             ],
             [
              1,
              "#f0f921"
             ]
            ],
            "type": "histogram2dcontour"
           }
          ],
          "mesh3d": [
           {
            "colorbar": {
             "outlinewidth": 0,
             "ticks": ""
            },
            "type": "mesh3d"
           }
          ],
          "parcoords": [
           {
            "line": {
             "colorbar": {
              "outlinewidth": 0,
              "ticks": ""
             }
            },
            "type": "parcoords"
           }
          ],
          "pie": [
           {
            "automargin": true,
            "type": "pie"
           }
          ],
          "scatter": [
           {
            "fillpattern": {
             "fillmode": "overlay",
             "size": 10,
             "solidity": 0.2
            },
            "type": "scatter"
           }
          ],
          "scatter3d": [
           {
            "line": {
             "colorbar": {
              "outlinewidth": 0,
              "ticks": ""
             }
            },
            "marker": {
             "colorbar": {
              "outlinewidth": 0,
              "ticks": ""
             }
            },
            "type": "scatter3d"
           }
          ],
          "scattercarpet": [
           {
            "marker": {
             "colorbar": {
              "outlinewidth": 0,
              "ticks": ""
             }
            },
            "type": "scattercarpet"
           }
          ],
          "scattergeo": [
           {
            "marker": {
             "colorbar": {
              "outlinewidth": 0,
              "ticks": ""
             }
            },
            "type": "scattergeo"
           }
          ],
          "scattergl": [
           {
            "marker": {
             "colorbar": {
              "outlinewidth": 0,
              "ticks": ""
             }
            },
            "type": "scattergl"
           }
          ],
          "scattermapbox": [
           {
            "marker": {
             "colorbar": {
              "outlinewidth": 0,
              "ticks": ""
             }
            },
            "type": "scattermapbox"
           }
          ],
          "scatterpolar": [
           {
            "marker": {
             "colorbar": {
              "outlinewidth": 0,
              "ticks": ""
             }
            },
            "type": "scatterpolar"
           }
          ],
          "scatterpolargl": [
           {
            "marker": {
             "colorbar": {
              "outlinewidth": 0,
              "ticks": ""
             }
            },
            "type": "scatterpolargl"
           }
          ],
          "scatterternary": [
           {
            "marker": {
             "colorbar": {
              "outlinewidth": 0,
              "ticks": ""
             }
            },
            "type": "scatterternary"
           }
          ],
          "surface": [
           {
            "colorbar": {
             "outlinewidth": 0,
             "ticks": ""
            },
            "colorscale": [
             [
              0,
              "#0d0887"
             ],
             [
              0.1111111111111111,
              "#46039f"
             ],
             [
              0.2222222222222222,
              "#7201a8"
             ],
             [
              0.3333333333333333,
              "#9c179e"
             ],
             [
              0.4444444444444444,
              "#bd3786"
             ],
             [
              0.5555555555555556,
              "#d8576b"
             ],
             [
              0.6666666666666666,
              "#ed7953"
             ],
             [
              0.7777777777777778,
              "#fb9f3a"
             ],
             [
              0.8888888888888888,
              "#fdca26"
             ],
             [
              1,
              "#f0f921"
             ]
            ],
            "type": "surface"
           }
          ],
          "table": [
           {
            "cells": {
             "fill": {
              "color": "#EBF0F8"
             },
             "line": {
              "color": "white"
             }
            },
            "header": {
             "fill": {
              "color": "#C8D4E3"
             },
             "line": {
              "color": "white"
             }
            },
            "type": "table"
           }
          ]
         },
         "layout": {
          "annotationdefaults": {
           "arrowcolor": "#2a3f5f",
           "arrowhead": 0,
           "arrowwidth": 1
          },
          "autotypenumbers": "strict",
          "coloraxis": {
           "colorbar": {
            "outlinewidth": 0,
            "ticks": ""
           }
          },
          "colorscale": {
           "diverging": [
            [
             0,
             "#8e0152"
            ],
            [
             0.1,
             "#c51b7d"
            ],
            [
             0.2,
             "#de77ae"
            ],
            [
             0.3,
             "#f1b6da"
            ],
            [
             0.4,
             "#fde0ef"
            ],
            [
             0.5,
             "#f7f7f7"
            ],
            [
             0.6,
             "#e6f5d0"
            ],
            [
             0.7,
             "#b8e186"
            ],
            [
             0.8,
             "#7fbc41"
            ],
            [
             0.9,
             "#4d9221"
            ],
            [
             1,
             "#276419"
            ]
           ],
           "sequential": [
            [
             0,
             "#0d0887"
            ],
            [
             0.1111111111111111,
             "#46039f"
            ],
            [
             0.2222222222222222,
             "#7201a8"
            ],
            [
             0.3333333333333333,
             "#9c179e"
            ],
            [
             0.4444444444444444,
             "#bd3786"
            ],
            [
             0.5555555555555556,
             "#d8576b"
            ],
            [
             0.6666666666666666,
             "#ed7953"
            ],
            [
             0.7777777777777778,
             "#fb9f3a"
            ],
            [
             0.8888888888888888,
             "#fdca26"
            ],
            [
             1,
             "#f0f921"
            ]
           ],
           "sequentialminus": [
            [
             0,
             "#0d0887"
            ],
            [
             0.1111111111111111,
             "#46039f"
            ],
            [
             0.2222222222222222,
             "#7201a8"
            ],
            [
             0.3333333333333333,
             "#9c179e"
            ],
            [
             0.4444444444444444,
             "#bd3786"
            ],
            [
             0.5555555555555556,
             "#d8576b"
            ],
            [
             0.6666666666666666,
             "#ed7953"
            ],
            [
             0.7777777777777778,
             "#fb9f3a"
            ],
            [
             0.8888888888888888,
             "#fdca26"
            ],
            [
             1,
             "#f0f921"
            ]
           ]
          },
          "colorway": [
           "#636efa",
           "#EF553B",
           "#00cc96",
           "#ab63fa",
           "#FFA15A",
           "#19d3f3",
           "#FF6692",
           "#B6E880",
           "#FF97FF",
           "#FECB52"
          ],
          "font": {
           "color": "#2a3f5f"
          },
          "geo": {
           "bgcolor": "white",
           "lakecolor": "white",
           "landcolor": "#E5ECF6",
           "showlakes": true,
           "showland": true,
           "subunitcolor": "white"
          },
          "hoverlabel": {
           "align": "left"
          },
          "hovermode": "closest",
          "mapbox": {
           "style": "light"
          },
          "paper_bgcolor": "white",
          "plot_bgcolor": "#E5ECF6",
          "polar": {
           "angularaxis": {
            "gridcolor": "white",
            "linecolor": "white",
            "ticks": ""
           },
           "bgcolor": "#E5ECF6",
           "radialaxis": {
            "gridcolor": "white",
            "linecolor": "white",
            "ticks": ""
           }
          },
          "scene": {
           "xaxis": {
            "backgroundcolor": "#E5ECF6",
            "gridcolor": "white",
            "gridwidth": 2,
            "linecolor": "white",
            "showbackground": true,
            "ticks": "",
            "zerolinecolor": "white"
           },
           "yaxis": {
            "backgroundcolor": "#E5ECF6",
            "gridcolor": "white",
            "gridwidth": 2,
            "linecolor": "white",
            "showbackground": true,
            "ticks": "",
            "zerolinecolor": "white"
           },
           "zaxis": {
            "backgroundcolor": "#E5ECF6",
            "gridcolor": "white",
            "gridwidth": 2,
            "linecolor": "white",
            "showbackground": true,
            "ticks": "",
            "zerolinecolor": "white"
           }
          },
          "shapedefaults": {
           "line": {
            "color": "#2a3f5f"
           }
          },
          "ternary": {
           "aaxis": {
            "gridcolor": "white",
            "linecolor": "white",
            "ticks": ""
           },
           "baxis": {
            "gridcolor": "white",
            "linecolor": "white",
            "ticks": ""
           },
           "bgcolor": "#E5ECF6",
           "caxis": {
            "gridcolor": "white",
            "linecolor": "white",
            "ticks": ""
           }
          },
          "title": {
           "x": 0.05
          },
          "xaxis": {
           "automargin": true,
           "gridcolor": "white",
           "linecolor": "white",
           "ticks": "",
           "title": {
            "standoff": 15
           },
           "zerolinecolor": "white",
           "zerolinewidth": 2
          },
          "yaxis": {
           "automargin": true,
           "gridcolor": "white",
           "linecolor": "white",
           "ticks": "",
           "title": {
            "standoff": 15
           },
           "zerolinecolor": "white",
           "zerolinewidth": 2
          }
         }
        }
       }
      },
      "text/html": [
       "<div>                            <div id=\"740471aa-5f9e-4329-83a0-48f556076d49\" class=\"plotly-graph-div\" style=\"height:525px; width:100%;\"></div>            <script type=\"text/javascript\">                require([\"plotly\"], function(Plotly) {                    window.PLOTLYENV=window.PLOTLYENV || {};                                    if (document.getElementById(\"740471aa-5f9e-4329-83a0-48f556076d49\")) {                    Plotly.newPlot(                        \"740471aa-5f9e-4329-83a0-48f556076d49\",                        [{\"hovertemplate\":\"0=%{marker.size}<br>latitude=%{lat}<br>longitude=%{lon}<br>house_price=%{marker.color}<extra></extra>\",\"lat\":[\"-15.85281492934229\",\"-15.854471390078723\",\"-15.855954181583032\",\"-15.857003580474384\",\"-15.858894728758774\",\"-15.859811710860406\",\"-15.860899954620459\",\"-15.862544525189197\",\"-15.862810942571167\",\"-15.863758482999485\",\"-15.86377344649297\",\"-15.864429527293499\",\"-15.86498246497334\",\"-15.866249499838348\",\"-15.866427096955162\",\"-15.866467705125428\",\"-15.867567088365508\",\"-15.867704339258456\",\"-15.86787945426569\",\"-15.868191443333105\",\"-15.868567239188385\",\"-15.870089915410876\",\"-15.870267828033931\",\"-15.870504905684792\",\"-15.870714012953641\",\"-15.870769824111989\",\"-15.870956536689437\",\"-15.87168084960523\",\"-15.87229126766909\",\"-15.872906260495819\",\"-15.872934485864539\",\"-15.873270913201631\",\"-15.873415321921176\",\"-15.873544637849974\",\"-15.874505597460054\",\"-15.874921709043127\",\"-15.875483241716069\",\"-15.875859755334085\",\"-15.876050241346821\",\"-15.876737115665238\",\"-15.877402674085562\",\"-15.878436310255644\",\"-15.878920735602435\",\"-15.87905182654271\",\"-15.87917262754653\",\"-15.879255177780205\",\"-15.880774329428991\",\"-15.880858576919632\",\"-15.881223868482165\",\"-15.882072521898367\",\"-15.882143905944265\",\"-15.882230483116414\",\"-15.883275074574149\",\"-15.883679579015485\",\"-15.883844754818588\",\"-15.88451055143896\",\"-15.884706489237438\",\"-15.885092179524374\",\"-15.885313464545222\",\"-15.885333361721543\",\"-15.885865743653508\",\"-15.886141129453447\",\"-15.886321498854747\",\"-15.886609512227091\",\"-15.887156915050575\",\"-15.88721951164377\",\"-15.888152489411452\",\"-15.88869322039697\",\"-15.888916348398105\",\"-15.889615608944593\",\"-15.891247238229269\",\"-15.891776697860314\",\"-15.891883248037917\",\"-15.891968728029996\",\"-15.892481819386818\",\"-15.894289969286815\",\"-15.89508490988754\",\"-15.895729658752451\",\"-15.896158968539169\",\"-15.851932500574971\",\"-15.854094684286784\",\"-15.855044924934832\",\"-15.855268244822634\",\"-15.856503032332279\",\"-15.857542742568548\",\"-15.858012381637142\",\"-15.858449911503671\",\"-15.8591555086571\",\"-15.860150038861736\",\"-15.860769284461055\",\"-15.861913080256768\",\"-15.862891790646822\",\"-15.863100158437765\",\"-15.864344277991682\",\"-15.86494717304739\",\"-15.86530977672352\",\"-15.865980136247062\",\"-15.866307259725222\",\"-15.866898466576371\",\"-15.866979173793517\",\"-15.867649385377758\",\"-15.868219059688109\",\"-15.868376167444241\",\"-15.869073794679796\",\"-15.869261345322371\",\"-15.869343921435384\",\"-15.869910407195048\",\"-15.870328949155228\",\"-15.87134611859877\",\"-15.871735186843207\",\"-15.871753814596568\",\"-15.872823165009999\",\"-15.873048289383961\",\"-15.873146297009486\",\"-15.873970625279675\",\"-15.87411524884355\",\"-15.874245545749314\",\"-15.874322573005268\",\"-15.874838813270504\",\"-15.87490476333859\",\"-15.875172413590613\",\"-15.875440802542585\",\"-15.87628690321509\",\"-15.876344180008788\",\"-15.877174384906173\",\"-15.877221489273946\",\"-15.877394595400173\",\"-15.877479853609502\",\"-15.878140616941456\",\"-15.878486871044082\",\"-15.879102834660232\",\"-15.879682439345114\",\"-15.879918745306743\",\"-15.879952682070021\",\"-15.88003447407259\",\"-15.880057896558048\",\"-15.881438762833806\",\"-15.88154092836035\",\"-15.881603608688964\",\"-15.881820279817644\",\"-15.88193830368694\",\"-15.88200886401925\",\"-15.882143905944265\",\"-15.882608987318113\",\"-15.882882754918217\",\"-15.882977480164952\",\"-15.883009151220076\",\"-15.883179859217234\",\"-15.883370714052091\",\"-15.883518401146691\",\"-15.883935343304458\",\"-15.883940533991977\",\"-15.884189308889953\",\"-15.88424268602474\",\"-15.884813588319249\",\"-15.885009356251565\",\"-15.8851399022477\",\"-15.88536392568552\",\"-15.885914546396833\",\"-15.885925087934142\",\"-15.886095551940185\",\"-15.88638065423701\",\"-15.886719306891207\",\"-15.886934327009703\",\"-15.887207722096905\",\"-15.88764017047797\",\"-15.887852615144755\",\"-15.888406615173203\",\"-15.888629228717877\",\"-15.88883430655705\",\"-15.888837724286343\",\"-15.889795701334274\",\"-15.890086644152207\",\"-15.890286041628375\",\"-15.8906866013751\",\"-15.890770484521905\",\"-15.891161681847912\",\"-15.891386139453608\",\"-15.891402182996318\",\"-15.891832465031948\",\"-15.89191944671329\",\"-15.892746009847924\",\"-15.892960082576872\",\"-15.892994122974757\",\"-15.893083345529146\",\"-15.893673743048726\",\"-15.893833867742408\",\"-15.894111523792267\",\"-15.894233396228005\",\"-15.895217431639853\",\"-15.895345148718699\",\"-15.895386772393941\",\"-15.895469072861\",\"-15.896501853581654\",\"-15.896689896573\",\"-15.8993399951858\"],\"legendgroup\":\"\",\"lon\":[\" -48.07376479162934\",\" -48.07604798580723\",\" -48.06950116272218\",\" -48.08264080274787\",\" -48.0713784436007\",\" -48.074294258914115\",\" -48.07705924177919\",\" -48.09143683974839\",\" -48.079925793846854\",\" -48.07577624519392\",\" -48.07199773554532\",\" -48.08242791463846\",\" -48.0961597443023\",\" -48.0981314141128\",\" -48.08553938970009\",\" -48.06214192392817\",\" -48.06461684259848\",\" -48.05682546940082\",\" -48.0877750569753\",\" -48.07696737196877\",\" -48.06719182270189\",\" -48.074450834111495\",\" -48.06844180875772\",\" -48.093427273723606\",\" -48.08304941476127\",\" -48.077487324960856\",\" -48.071726164270686\",\" -48.09594620635299\",\" -48.06316956115106\",\" -48.08239049706196\",\" -48.0646370380746\",\" -48.079253147221706\",\" -48.105770671567214\",\" -48.06795949904651\",\" -48.06054300742409\",\" -48.0991690383578\",\" -48.10555950870533\",\" -48.09319603509419\",\" -48.10125828557616\",\" -48.06993093234583\",\" -48.07166969799305\",\" -48.07479242022789\",\" -48.077025374520616\",\" -48.0941768312436\",\" -48.107506711190055\",\" -48.08058625789296\",\" -48.12046765203356\",\" -48.11269033812178\",\" -48.07401905585764\",\" -48.09155373078865\",\" -48.063501412766435\",\" -48.077875408342464\",\" -48.10221933290608\",\" -48.125353078289976\",\" -48.0824103323485\",\" -48.10504851040007\",\" -48.12875246427392\",\" -48.09829122824255\",\" -48.10826339265746\",\" -48.121331660618026\",\" -48.08919442364523\",\" -48.15090046318128\",\" -48.09566450801294\",\" -48.14796306814208\",\" -48.14726425355604\",\" -48.091522091967526\",\" -48.09958994048566\",\" -48.10345957184157\",\" -48.1067838885328\",\" -48.09442098601877\",\" -48.096077966223184\",\" -48.104974127992996\",\" -48.09931517222642\",\" -48.122775282000774\",\" -48.136293329761465\",\" -48.110939219366486\",\" -48.142538939620756\",\" -48.114169312669894\",\" -48.11739441518057\",\" -48.07449435244879\",\" -48.07652005457276\",\" -48.06887953246958\",\" -48.07878994875818\",\" -48.08306995617108\",\" -48.07193634305087\",\" -48.085856894840575\",\" -48.07489680265195\",\" -48.07781388393629\",\" -48.08853992643308\",\" -48.08115716155888\",\" -48.091971598995464\",\" -48.07278540578079\",\" -48.083494849813604\",\" -48.09651061152601\",\" -48.08639348082362\",\" -48.09867253348901\",\" -48.074856779742994\",\" -48.08834855531934\",\" -48.05842229184415\",\" -48.077716734438376\",\" -48.06217117362418\",\" -48.08074115350348\",\" -48.06383306149591\",\" -48.10215697555955\",\" -48.09402396752223\",\" -48.06719633362168\",\" -48.08299878139798\",\" -48.09717465802693\",\" -48.074266769002605\",\" -48.07682780183796\",\" -48.10380545382008\",\" -48.06078870487059\",\" -48.09987078095621\",\" -48.062629516874\",\" -48.109804201339365\",\" -48.081998606510666\",\" -48.065339030753876\",\" -48.117607283719614\",\" -48.06716975728233\",\" -48.1018322782797\",\" -48.09397966661189\",\" -48.07044708085841\",\" -48.07221390651939\",\" -48.104958015049554\",\" -48.118823822317914\",\" -48.09722524415772\",\" -48.07725955301243\",\" -48.07537646276072\",\" -48.10860095074429\",\" -48.12302894952972\",\" -48.11158794203517\",\" -48.124676278673064\",\" -48.10273516606713\",\" -48.11373162729978\",\" -48.06303214526124\",\" -48.06552155840925\",\" -48.068582001789395\",\" -48.11651788926065\",\" -48.12742685525665\",\" -48.10709608565132\",\" -48.07073800075385\",\" -48.09991338565928\",\" -48.063501412766435\",\" -48.11947559826455\",\" -48.09284656730632\",\" -48.10956484232961\",\" -48.13032493291954\",\" -48.073295831342946\",\" -48.11188239843845\",\" -48.07572232782848\",\" -48.078986896790894\",\" -48.122256674207804\",\" -48.145141754082715\",\" -48.11213452606561\",\" -48.09557675892803\",\" -48.14666755529745\",\" -48.124179267941564\",\" -48.08177853891466\",\" -48.14853208624515\",\" -48.15017403191548\",\" -48.10758479971\",\" -48.09734353812553\",\" -48.12779199022573\",\" -48.10022978584141\",\" -48.1459632906555\",\" -48.089020689311106\",\" -48.14627588584832\",\" -48.120955895384036\",\" -48.14611332396394\",\" -48.090855198898474\",\" -48.143464686877074\",\" -48.124362343442726\",\" -48.10608774579253\",\" -48.14634989449299\",\" -48.09376624204893\",\" -48.126599871945565\",\" -48.148105079874156\",\" -48.108849013894684\",\" -48.119723652888055\",\" -48.10133256223572\",\" -48.13729111147043\",\" -48.1112229150226\",\" -48.12270109904582\",\" -48.14091306842818\",\" -48.10418527752632\",\" -48.14385309685865\",\" -48.107498734595225\",\" -48.125614746421604\",\" -48.115230619631824\",\" -48.12776885630337\",\" -48.11025205094176\",\" -48.117456544170416\",\" -48.1467768004504\",\" -48.11368183905732\",\" -48.12045088732199\",\" -48.12600966729613\"],\"marker\":{\"color\":[209214.2857142857,260000.0,320931.6551724138,282450.0,181666.66666666666,212223.07692307694,237723.29411764705,145000.0,204263.18181818182,168300.0,228040.0,283206.4827586207,383475.0,116000.0,231633.33333333334,263337.95454545453,115737.5,314500.0,202780.1,188998.88888888888,180831.33333333334,203320.57142857142,250000.0,320998.75,145000.0,135112.625,174999.5,218500.0,161000.0,158500.0,223500.0,148932.58333333334,75000.0,100000.0,202655.6883116883,79900.0,143800.0,283300.0,169610.87719298244,136445.45454545456,49000.0,221985.7142857143,150000.0,311666.6666666667,126178.0,210000.0,267500.0,230000.0,237500.0,246372.79166666666,200000.0,80000.0,239000.0,150000.0,337500.0,58300.0,153000.0,78725.0,247788.0,90390.90909090909,209250.0,139000.0,158475.0,259000.0,384760.0,70000.0,114340.0,160000.0,195000.0,82350.0,46966.666666666664,219000.0,140000.0,165000.0,69700.0,214945.0,149831.66666666666,368000.0,205559.43,340000.0,244622.5,350000.0,370000.0,323333.3333333333,385700.0,224662.5,324909.0909090909,322838.09523809527,350000.0,311250.0,328612.375,420000.0,372750.0,285000.0,225375.0,292888.27777777775,318166.6666666667,349103.7037037037,535756.1666666666,383666.6666666667,520000.0,379866.6666666667,78000.0,145666.66666666666,339450.0,280000.0,281225.0,225000.0,374999.6666666667,236000.0,190000.0,424000.0,359000.0,395607.6923076923,175000.0,296740.0,309166.6666666667,177428.57142857142,246666.66666666666,192500.0,325900.0,270000.0,170000.0,260000.0,110000.0,228444.22222222222,250000.0,399750.0,271415.0,190000.0,237937.375,95000.0,227500.0,213433.33333333334,404375.0,245080.0,249333.33333333334,237128.57142857142,157800.0,193333.33333333334,254990.0,200000.0,235000.0,243600.0,360000.0,70900.0,130000.0,343333.3333333333,283333.3333333333,290000.0,215000.0,192940.0,121333.33333333333,310000.0,386666.6666666667,110000.0,214835.7142857143,300998.75,110000.0,240000.0,175000.0,431666.6666666667,158593.33333333334,278166.6666666667,85000.0,275000.0,41666.666666666664,187166.66666666666,136000.0,340000.0,53266.666666666664,241000.0,198772.22222222222,168300.0,136833.33333333334,75000.0,272000.0,116749.625,113333.33333333333,217428.57142857142,69800.0,390000.0,160000.0,107500.0,225000.0,194980.0,273526.6666666667,165000.0,285000.0,87778.0,196633.33333333334,102450.0,83960.0,363333.3333333333,220000.0,250000.0],\"coloraxis\":\"coloraxis\",\"size\":[4,2,2,1,1,1,1,1,1,1,1,3,3,2,2,1,1,1,1,1,1,1,1,1,1,1,1,1,1,1,1,1,1,1,1,1,1,1,1,3,2,2,1,1,1,1,1,1,5,2,2,1,1,1,1,1,1,1,1,1,1,3,2,2,1,1,1,1,1,1,1,1,1,1,1,1,1,1,1,2,1,3,2,1,1,1,1,9,3,2,2,2,1,1,1,1,1,1,1,1,1,1,1,1,1,1,1,1,1,1,1,1,6,3,2,2,1,1,1,1,1,1,1,1,2,2,1,1,1,1,1,1,1,1,2,2,2,1,1,1,1,3,1,1,1,1,1,1,3,1,1,1,1,1,1,1,1,1,1,1,2,2,1,1,1,1,1,1,1,1,1,1,1,1,1,1,1,1,1,1,1,1,1,1,1,1,3,1,1,1,1,1,1,1,1,1],\"sizemode\":\"area\",\"sizeref\":0.0225},\"mode\":\"markers\",\"name\":\"\",\"showlegend\":false,\"subplot\":\"mapbox\",\"type\":\"scattermapbox\"}],                        {\"template\":{\"data\":{\"histogram2dcontour\":[{\"type\":\"histogram2dcontour\",\"colorbar\":{\"outlinewidth\":0,\"ticks\":\"\"},\"colorscale\":[[0.0,\"#0d0887\"],[0.1111111111111111,\"#46039f\"],[0.2222222222222222,\"#7201a8\"],[0.3333333333333333,\"#9c179e\"],[0.4444444444444444,\"#bd3786\"],[0.5555555555555556,\"#d8576b\"],[0.6666666666666666,\"#ed7953\"],[0.7777777777777778,\"#fb9f3a\"],[0.8888888888888888,\"#fdca26\"],[1.0,\"#f0f921\"]]}],\"choropleth\":[{\"type\":\"choropleth\",\"colorbar\":{\"outlinewidth\":0,\"ticks\":\"\"}}],\"histogram2d\":[{\"type\":\"histogram2d\",\"colorbar\":{\"outlinewidth\":0,\"ticks\":\"\"},\"colorscale\":[[0.0,\"#0d0887\"],[0.1111111111111111,\"#46039f\"],[0.2222222222222222,\"#7201a8\"],[0.3333333333333333,\"#9c179e\"],[0.4444444444444444,\"#bd3786\"],[0.5555555555555556,\"#d8576b\"],[0.6666666666666666,\"#ed7953\"],[0.7777777777777778,\"#fb9f3a\"],[0.8888888888888888,\"#fdca26\"],[1.0,\"#f0f921\"]]}],\"heatmap\":[{\"type\":\"heatmap\",\"colorbar\":{\"outlinewidth\":0,\"ticks\":\"\"},\"colorscale\":[[0.0,\"#0d0887\"],[0.1111111111111111,\"#46039f\"],[0.2222222222222222,\"#7201a8\"],[0.3333333333333333,\"#9c179e\"],[0.4444444444444444,\"#bd3786\"],[0.5555555555555556,\"#d8576b\"],[0.6666666666666666,\"#ed7953\"],[0.7777777777777778,\"#fb9f3a\"],[0.8888888888888888,\"#fdca26\"],[1.0,\"#f0f921\"]]}],\"heatmapgl\":[{\"type\":\"heatmapgl\",\"colorbar\":{\"outlinewidth\":0,\"ticks\":\"\"},\"colorscale\":[[0.0,\"#0d0887\"],[0.1111111111111111,\"#46039f\"],[0.2222222222222222,\"#7201a8\"],[0.3333333333333333,\"#9c179e\"],[0.4444444444444444,\"#bd3786\"],[0.5555555555555556,\"#d8576b\"],[0.6666666666666666,\"#ed7953\"],[0.7777777777777778,\"#fb9f3a\"],[0.8888888888888888,\"#fdca26\"],[1.0,\"#f0f921\"]]}],\"contourcarpet\":[{\"type\":\"contourcarpet\",\"colorbar\":{\"outlinewidth\":0,\"ticks\":\"\"}}],\"contour\":[{\"type\":\"contour\",\"colorbar\":{\"outlinewidth\":0,\"ticks\":\"\"},\"colorscale\":[[0.0,\"#0d0887\"],[0.1111111111111111,\"#46039f\"],[0.2222222222222222,\"#7201a8\"],[0.3333333333333333,\"#9c179e\"],[0.4444444444444444,\"#bd3786\"],[0.5555555555555556,\"#d8576b\"],[0.6666666666666666,\"#ed7953\"],[0.7777777777777778,\"#fb9f3a\"],[0.8888888888888888,\"#fdca26\"],[1.0,\"#f0f921\"]]}],\"surface\":[{\"type\":\"surface\",\"colorbar\":{\"outlinewidth\":0,\"ticks\":\"\"},\"colorscale\":[[0.0,\"#0d0887\"],[0.1111111111111111,\"#46039f\"],[0.2222222222222222,\"#7201a8\"],[0.3333333333333333,\"#9c179e\"],[0.4444444444444444,\"#bd3786\"],[0.5555555555555556,\"#d8576b\"],[0.6666666666666666,\"#ed7953\"],[0.7777777777777778,\"#fb9f3a\"],[0.8888888888888888,\"#fdca26\"],[1.0,\"#f0f921\"]]}],\"mesh3d\":[{\"type\":\"mesh3d\",\"colorbar\":{\"outlinewidth\":0,\"ticks\":\"\"}}],\"scatter\":[{\"fillpattern\":{\"fillmode\":\"overlay\",\"size\":10,\"solidity\":0.2},\"type\":\"scatter\"}],\"parcoords\":[{\"type\":\"parcoords\",\"line\":{\"colorbar\":{\"outlinewidth\":0,\"ticks\":\"\"}}}],\"scatterpolargl\":[{\"type\":\"scatterpolargl\",\"marker\":{\"colorbar\":{\"outlinewidth\":0,\"ticks\":\"\"}}}],\"bar\":[{\"error_x\":{\"color\":\"#2a3f5f\"},\"error_y\":{\"color\":\"#2a3f5f\"},\"marker\":{\"line\":{\"color\":\"#E5ECF6\",\"width\":0.5},\"pattern\":{\"fillmode\":\"overlay\",\"size\":10,\"solidity\":0.2}},\"type\":\"bar\"}],\"scattergeo\":[{\"type\":\"scattergeo\",\"marker\":{\"colorbar\":{\"outlinewidth\":0,\"ticks\":\"\"}}}],\"scatterpolar\":[{\"type\":\"scatterpolar\",\"marker\":{\"colorbar\":{\"outlinewidth\":0,\"ticks\":\"\"}}}],\"histogram\":[{\"marker\":{\"pattern\":{\"fillmode\":\"overlay\",\"size\":10,\"solidity\":0.2}},\"type\":\"histogram\"}],\"scattergl\":[{\"type\":\"scattergl\",\"marker\":{\"colorbar\":{\"outlinewidth\":0,\"ticks\":\"\"}}}],\"scatter3d\":[{\"type\":\"scatter3d\",\"line\":{\"colorbar\":{\"outlinewidth\":0,\"ticks\":\"\"}},\"marker\":{\"colorbar\":{\"outlinewidth\":0,\"ticks\":\"\"}}}],\"scattermapbox\":[{\"type\":\"scattermapbox\",\"marker\":{\"colorbar\":{\"outlinewidth\":0,\"ticks\":\"\"}}}],\"scatterternary\":[{\"type\":\"scatterternary\",\"marker\":{\"colorbar\":{\"outlinewidth\":0,\"ticks\":\"\"}}}],\"scattercarpet\":[{\"type\":\"scattercarpet\",\"marker\":{\"colorbar\":{\"outlinewidth\":0,\"ticks\":\"\"}}}],\"carpet\":[{\"aaxis\":{\"endlinecolor\":\"#2a3f5f\",\"gridcolor\":\"white\",\"linecolor\":\"white\",\"minorgridcolor\":\"white\",\"startlinecolor\":\"#2a3f5f\"},\"baxis\":{\"endlinecolor\":\"#2a3f5f\",\"gridcolor\":\"white\",\"linecolor\":\"white\",\"minorgridcolor\":\"white\",\"startlinecolor\":\"#2a3f5f\"},\"type\":\"carpet\"}],\"table\":[{\"cells\":{\"fill\":{\"color\":\"#EBF0F8\"},\"line\":{\"color\":\"white\"}},\"header\":{\"fill\":{\"color\":\"#C8D4E3\"},\"line\":{\"color\":\"white\"}},\"type\":\"table\"}],\"barpolar\":[{\"marker\":{\"line\":{\"color\":\"#E5ECF6\",\"width\":0.5},\"pattern\":{\"fillmode\":\"overlay\",\"size\":10,\"solidity\":0.2}},\"type\":\"barpolar\"}],\"pie\":[{\"automargin\":true,\"type\":\"pie\"}]},\"layout\":{\"autotypenumbers\":\"strict\",\"colorway\":[\"#636efa\",\"#EF553B\",\"#00cc96\",\"#ab63fa\",\"#FFA15A\",\"#19d3f3\",\"#FF6692\",\"#B6E880\",\"#FF97FF\",\"#FECB52\"],\"font\":{\"color\":\"#2a3f5f\"},\"hovermode\":\"closest\",\"hoverlabel\":{\"align\":\"left\"},\"paper_bgcolor\":\"white\",\"plot_bgcolor\":\"#E5ECF6\",\"polar\":{\"bgcolor\":\"#E5ECF6\",\"angularaxis\":{\"gridcolor\":\"white\",\"linecolor\":\"white\",\"ticks\":\"\"},\"radialaxis\":{\"gridcolor\":\"white\",\"linecolor\":\"white\",\"ticks\":\"\"}},\"ternary\":{\"bgcolor\":\"#E5ECF6\",\"aaxis\":{\"gridcolor\":\"white\",\"linecolor\":\"white\",\"ticks\":\"\"},\"baxis\":{\"gridcolor\":\"white\",\"linecolor\":\"white\",\"ticks\":\"\"},\"caxis\":{\"gridcolor\":\"white\",\"linecolor\":\"white\",\"ticks\":\"\"}},\"coloraxis\":{\"colorbar\":{\"outlinewidth\":0,\"ticks\":\"\"}},\"colorscale\":{\"sequential\":[[0.0,\"#0d0887\"],[0.1111111111111111,\"#46039f\"],[0.2222222222222222,\"#7201a8\"],[0.3333333333333333,\"#9c179e\"],[0.4444444444444444,\"#bd3786\"],[0.5555555555555556,\"#d8576b\"],[0.6666666666666666,\"#ed7953\"],[0.7777777777777778,\"#fb9f3a\"],[0.8888888888888888,\"#fdca26\"],[1.0,\"#f0f921\"]],\"sequentialminus\":[[0.0,\"#0d0887\"],[0.1111111111111111,\"#46039f\"],[0.2222222222222222,\"#7201a8\"],[0.3333333333333333,\"#9c179e\"],[0.4444444444444444,\"#bd3786\"],[0.5555555555555556,\"#d8576b\"],[0.6666666666666666,\"#ed7953\"],[0.7777777777777778,\"#fb9f3a\"],[0.8888888888888888,\"#fdca26\"],[1.0,\"#f0f921\"]],\"diverging\":[[0,\"#8e0152\"],[0.1,\"#c51b7d\"],[0.2,\"#de77ae\"],[0.3,\"#f1b6da\"],[0.4,\"#fde0ef\"],[0.5,\"#f7f7f7\"],[0.6,\"#e6f5d0\"],[0.7,\"#b8e186\"],[0.8,\"#7fbc41\"],[0.9,\"#4d9221\"],[1,\"#276419\"]]},\"xaxis\":{\"gridcolor\":\"white\",\"linecolor\":\"white\",\"ticks\":\"\",\"title\":{\"standoff\":15},\"zerolinecolor\":\"white\",\"automargin\":true,\"zerolinewidth\":2},\"yaxis\":{\"gridcolor\":\"white\",\"linecolor\":\"white\",\"ticks\":\"\",\"title\":{\"standoff\":15},\"zerolinecolor\":\"white\",\"automargin\":true,\"zerolinewidth\":2},\"scene\":{\"xaxis\":{\"backgroundcolor\":\"#E5ECF6\",\"gridcolor\":\"white\",\"linecolor\":\"white\",\"showbackground\":true,\"ticks\":\"\",\"zerolinecolor\":\"white\",\"gridwidth\":2},\"yaxis\":{\"backgroundcolor\":\"#E5ECF6\",\"gridcolor\":\"white\",\"linecolor\":\"white\",\"showbackground\":true,\"ticks\":\"\",\"zerolinecolor\":\"white\",\"gridwidth\":2},\"zaxis\":{\"backgroundcolor\":\"#E5ECF6\",\"gridcolor\":\"white\",\"linecolor\":\"white\",\"showbackground\":true,\"ticks\":\"\",\"zerolinecolor\":\"white\",\"gridwidth\":2}},\"shapedefaults\":{\"line\":{\"color\":\"#2a3f5f\"}},\"annotationdefaults\":{\"arrowcolor\":\"#2a3f5f\",\"arrowhead\":0,\"arrowwidth\":1},\"geo\":{\"bgcolor\":\"white\",\"landcolor\":\"#E5ECF6\",\"subunitcolor\":\"white\",\"showland\":true,\"showlakes\":true,\"lakecolor\":\"white\"},\"title\":{\"x\":0.05},\"mapbox\":{\"style\":\"light\"}}},\"mapbox\":{\"domain\":{\"x\":[0.0,1.0],\"y\":[0.0,1.0]},\"center\":{\"lat\":-15.878191211624543,\"lon\":-48.10520207922798},\"zoom\":12.5,\"style\":\"carto-positron\"},\"coloraxis\":{\"colorbar\":{\"title\":{\"text\":\"house_price\"}},\"colorscale\":[[0.0,\"rgb(12,51,131)\"],[0.25,\"rgb(10,136,186)\"],[0.5,\"rgb(242,211,56)\"],[0.75,\"rgb(242,143,56)\"],[1.0,\"rgb(217,30,30)\"]]},\"legend\":{\"tracegroupgap\":0,\"itemsizing\":\"constant\"},\"margin\":{\"t\":0,\"r\":0,\"l\":0,\"b\":0}},                        {\"responsive\": true}                    ).then(function(){\n",
       "                            \n",
       "var gd = document.getElementById('740471aa-5f9e-4329-83a0-48f556076d49');\n",
       "var x = new MutationObserver(function (mutations, observer) {{\n",
       "        var display = window.getComputedStyle(gd).display;\n",
       "        if (!display || display === 'none') {{\n",
       "            console.log([gd, 'removed!']);\n",
       "            Plotly.purge(gd);\n",
       "            observer.disconnect();\n",
       "        }}\n",
       "}});\n",
       "\n",
       "// Listen for the removal of the full notebook cells\n",
       "var notebookContainer = gd.closest('#notebook-container');\n",
       "if (notebookContainer) {{\n",
       "    x.observe(notebookContainer, {childList: true});\n",
       "}}\n",
       "\n",
       "// Listen for the clearing of the current output cell\n",
       "var outputEl = gd.closest('.output');\n",
       "if (outputEl) {{\n",
       "    x.observe(outputEl, {childList: true});\n",
       "}}\n",
       "\n",
       "                        })                };                });            </script>        </div>"
      ]
     },
     "metadata": {},
     "output_type": "display_data"
    }
   ],
   "source": [
    "fig = px.scatter_mapbox(df_search,\n",
    "                       lon = df_search['longitude'],\n",
    "                       lat = df_search['latitude'],\n",
    "                       center={\"lat\": -15.878191211624543, \"lon\": -48.10520207922798},\n",
    "                        zoom=12.5,\n",
    "                       color = df_search['house_price'],\n",
    "                       size = df_search[0],\n",
    "                       color_continuous_scale=px.colors.diverging.Portland\n",
    "                       )\n",
    "\n",
    "fig.update_layout(mapbox_style=\"carto-positron\")\n",
    "fig.update_layout(margin={\"r\":0,\"t\":0,\"l\":0,\"b\":0})\n",
    "\n",
    "fig.show()"
   ]
  },
  {
   "cell_type": "code",
   "execution_count": 125,
   "id": "36b8288d",
   "metadata": {},
   "outputs": [
    {
     "data": {
      "application/vnd.plotly.v1+json": {
       "config": {
        "plotlyServerURL": "https://plot.ly"
       },
       "data": [
        {
         "hovertemplate": "0=%{marker.size}<br>latitude=%{lat}<br>longitude=%{lon}<br>Preço dos imóveis=%{marker.color}<extra></extra>",
         "lat": [
          "-15.85281492934229",
          "-15.854471390078723",
          "-15.855954181583032",
          "-15.857003580474384",
          "-15.858894728758774",
          "-15.859811710860406",
          "-15.860899954620459",
          "-15.862544525189197",
          "-15.862810942571167",
          "-15.863758482999485",
          "-15.86377344649297",
          "-15.864429527293499",
          "-15.86498246497334",
          "-15.866249499838348",
          "-15.866427096955162",
          "-15.866467705125428",
          "-15.867567088365508",
          "-15.867704339258456",
          "-15.86787945426569",
          "-15.868191443333105",
          "-15.868567239188385",
          "-15.870089915410876",
          "-15.870267828033931",
          "-15.870504905684792",
          "-15.870714012953641",
          "-15.870769824111989",
          "-15.870956536689437",
          "-15.87168084960523",
          "-15.87229126766909",
          "-15.872906260495819",
          "-15.872934485864539",
          "-15.873270913201631",
          "-15.873415321921176",
          "-15.873544637849974",
          "-15.874505597460054",
          "-15.874921709043127",
          "-15.875483241716069",
          "-15.875859755334085",
          "-15.876050241346821",
          "-15.876737115665238",
          "-15.877402674085562",
          "-15.878436310255644",
          "-15.878920735602435",
          "-15.87905182654271",
          "-15.87917262754653",
          "-15.879255177780205",
          "-15.880774329428991",
          "-15.880858576919632",
          "-15.881223868482165",
          "-15.882072521898367",
          "-15.882143905944265",
          "-15.882230483116414",
          "-15.883275074574149",
          "-15.883679579015485",
          "-15.883844754818588",
          "-15.88451055143896",
          "-15.884706489237438",
          "-15.885092179524374",
          "-15.885313464545222",
          "-15.885333361721543",
          "-15.885865743653508",
          "-15.886141129453447",
          "-15.886321498854747",
          "-15.886609512227091",
          "-15.887156915050575",
          "-15.88721951164377",
          "-15.888152489411452",
          "-15.88869322039697",
          "-15.888916348398105",
          "-15.889615608944593",
          "-15.891247238229269",
          "-15.891776697860314",
          "-15.891883248037917",
          "-15.891968728029996",
          "-15.892481819386818",
          "-15.894289969286815",
          "-15.89508490988754",
          "-15.895729658752451",
          "-15.896158968539169",
          "-15.851932500574971",
          "-15.854094684286784",
          "-15.855044924934832",
          "-15.855268244822634",
          "-15.856503032332279",
          "-15.857542742568548",
          "-15.858012381637142",
          "-15.858449911503671",
          "-15.8591555086571",
          "-15.860150038861736",
          "-15.860769284461055",
          "-15.861913080256768",
          "-15.862891790646822",
          "-15.863100158437765",
          "-15.864344277991682",
          "-15.86494717304739",
          "-15.86530977672352",
          "-15.865980136247062",
          "-15.866307259725222",
          "-15.866898466576371",
          "-15.866979173793517",
          "-15.867649385377758",
          "-15.868219059688109",
          "-15.868376167444241",
          "-15.869073794679796",
          "-15.869261345322371",
          "-15.869343921435384",
          "-15.869910407195048",
          "-15.870328949155228",
          "-15.87134611859877",
          "-15.871735186843207",
          "-15.871753814596568",
          "-15.872823165009999",
          "-15.873048289383961",
          "-15.873146297009486",
          "-15.873970625279675",
          "-15.87411524884355",
          "-15.874245545749314",
          "-15.874322573005268",
          "-15.874838813270504",
          "-15.87490476333859",
          "-15.875172413590613",
          "-15.875440802542585",
          "-15.87628690321509",
          "-15.876344180008788",
          "-15.877174384906173",
          "-15.877221489273946",
          "-15.877394595400173",
          "-15.877479853609502",
          "-15.878140616941456",
          "-15.878486871044082",
          "-15.879102834660232",
          "-15.879682439345114",
          "-15.879918745306743",
          "-15.879952682070021",
          "-15.88003447407259",
          "-15.880057896558048",
          "-15.881438762833806",
          "-15.88154092836035",
          "-15.881603608688964",
          "-15.881820279817644",
          "-15.88193830368694",
          "-15.88200886401925",
          "-15.882143905944265",
          "-15.882608987318113",
          "-15.882882754918217",
          "-15.882977480164952",
          "-15.883009151220076",
          "-15.883179859217234",
          "-15.883370714052091",
          "-15.883518401146691",
          "-15.883935343304458",
          "-15.883940533991977",
          "-15.884189308889953",
          "-15.88424268602474",
          "-15.884813588319249",
          "-15.885009356251565",
          "-15.8851399022477",
          "-15.88536392568552",
          "-15.885914546396833",
          "-15.885925087934142",
          "-15.886095551940185",
          "-15.88638065423701",
          "-15.886719306891207",
          "-15.886934327009703",
          "-15.887207722096905",
          "-15.88764017047797",
          "-15.887852615144755",
          "-15.888406615173203",
          "-15.888629228717877",
          "-15.88883430655705",
          "-15.888837724286343",
          "-15.889795701334274",
          "-15.890086644152207",
          "-15.890286041628375",
          "-15.8906866013751",
          "-15.890770484521905",
          "-15.891161681847912",
          "-15.891386139453608",
          "-15.891402182996318",
          "-15.891832465031948",
          "-15.89191944671329",
          "-15.892746009847924",
          "-15.892960082576872",
          "-15.892994122974757",
          "-15.893083345529146",
          "-15.893673743048726",
          "-15.893833867742408",
          "-15.894111523792267",
          "-15.894233396228005",
          "-15.895217431639853",
          "-15.895345148718699",
          "-15.895386772393941",
          "-15.895469072861",
          "-15.896501853581654",
          "-15.896689896573",
          "-15.8993399951858"
         ],
         "legendgroup": "",
         "lon": [
          " -48.07376479162934",
          " -48.07604798580723",
          " -48.06950116272218",
          " -48.08264080274787",
          " -48.0713784436007",
          " -48.074294258914115",
          " -48.07705924177919",
          " -48.09143683974839",
          " -48.079925793846854",
          " -48.07577624519392",
          " -48.07199773554532",
          " -48.08242791463846",
          " -48.0961597443023",
          " -48.0981314141128",
          " -48.08553938970009",
          " -48.06214192392817",
          " -48.06461684259848",
          " -48.05682546940082",
          " -48.0877750569753",
          " -48.07696737196877",
          " -48.06719182270189",
          " -48.074450834111495",
          " -48.06844180875772",
          " -48.093427273723606",
          " -48.08304941476127",
          " -48.077487324960856",
          " -48.071726164270686",
          " -48.09594620635299",
          " -48.06316956115106",
          " -48.08239049706196",
          " -48.0646370380746",
          " -48.079253147221706",
          " -48.105770671567214",
          " -48.06795949904651",
          " -48.06054300742409",
          " -48.0991690383578",
          " -48.10555950870533",
          " -48.09319603509419",
          " -48.10125828557616",
          " -48.06993093234583",
          " -48.07166969799305",
          " -48.07479242022789",
          " -48.077025374520616",
          " -48.0941768312436",
          " -48.107506711190055",
          " -48.08058625789296",
          " -48.12046765203356",
          " -48.11269033812178",
          " -48.07401905585764",
          " -48.09155373078865",
          " -48.063501412766435",
          " -48.077875408342464",
          " -48.10221933290608",
          " -48.125353078289976",
          " -48.0824103323485",
          " -48.10504851040007",
          " -48.12875246427392",
          " -48.09829122824255",
          " -48.10826339265746",
          " -48.121331660618026",
          " -48.08919442364523",
          " -48.15090046318128",
          " -48.09566450801294",
          " -48.14796306814208",
          " -48.14726425355604",
          " -48.091522091967526",
          " -48.09958994048566",
          " -48.10345957184157",
          " -48.1067838885328",
          " -48.09442098601877",
          " -48.096077966223184",
          " -48.104974127992996",
          " -48.09931517222642",
          " -48.122775282000774",
          " -48.136293329761465",
          " -48.110939219366486",
          " -48.142538939620756",
          " -48.114169312669894",
          " -48.11739441518057",
          " -48.07449435244879",
          " -48.07652005457276",
          " -48.06887953246958",
          " -48.07878994875818",
          " -48.08306995617108",
          " -48.07193634305087",
          " -48.085856894840575",
          " -48.07489680265195",
          " -48.07781388393629",
          " -48.08853992643308",
          " -48.08115716155888",
          " -48.091971598995464",
          " -48.07278540578079",
          " -48.083494849813604",
          " -48.09651061152601",
          " -48.08639348082362",
          " -48.09867253348901",
          " -48.074856779742994",
          " -48.08834855531934",
          " -48.05842229184415",
          " -48.077716734438376",
          " -48.06217117362418",
          " -48.08074115350348",
          " -48.06383306149591",
          " -48.10215697555955",
          " -48.09402396752223",
          " -48.06719633362168",
          " -48.08299878139798",
          " -48.09717465802693",
          " -48.074266769002605",
          " -48.07682780183796",
          " -48.10380545382008",
          " -48.06078870487059",
          " -48.09987078095621",
          " -48.062629516874",
          " -48.109804201339365",
          " -48.081998606510666",
          " -48.065339030753876",
          " -48.117607283719614",
          " -48.06716975728233",
          " -48.1018322782797",
          " -48.09397966661189",
          " -48.07044708085841",
          " -48.07221390651939",
          " -48.104958015049554",
          " -48.118823822317914",
          " -48.09722524415772",
          " -48.07725955301243",
          " -48.07537646276072",
          " -48.10860095074429",
          " -48.12302894952972",
          " -48.11158794203517",
          " -48.124676278673064",
          " -48.10273516606713",
          " -48.11373162729978",
          " -48.06303214526124",
          " -48.06552155840925",
          " -48.068582001789395",
          " -48.11651788926065",
          " -48.12742685525665",
          " -48.10709608565132",
          " -48.07073800075385",
          " -48.09991338565928",
          " -48.063501412766435",
          " -48.11947559826455",
          " -48.09284656730632",
          " -48.10956484232961",
          " -48.13032493291954",
          " -48.073295831342946",
          " -48.11188239843845",
          " -48.07572232782848",
          " -48.078986896790894",
          " -48.122256674207804",
          " -48.145141754082715",
          " -48.11213452606561",
          " -48.09557675892803",
          " -48.14666755529745",
          " -48.124179267941564",
          " -48.08177853891466",
          " -48.14853208624515",
          " -48.15017403191548",
          " -48.10758479971",
          " -48.09734353812553",
          " -48.12779199022573",
          " -48.10022978584141",
          " -48.1459632906555",
          " -48.089020689311106",
          " -48.14627588584832",
          " -48.120955895384036",
          " -48.14611332396394",
          " -48.090855198898474",
          " -48.143464686877074",
          " -48.124362343442726",
          " -48.10608774579253",
          " -48.14634989449299",
          " -48.09376624204893",
          " -48.126599871945565",
          " -48.148105079874156",
          " -48.108849013894684",
          " -48.119723652888055",
          " -48.10133256223572",
          " -48.13729111147043",
          " -48.1112229150226",
          " -48.12270109904582",
          " -48.14091306842818",
          " -48.10418527752632",
          " -48.14385309685865",
          " -48.107498734595225",
          " -48.125614746421604",
          " -48.115230619631824",
          " -48.12776885630337",
          " -48.11025205094176",
          " -48.117456544170416",
          " -48.1467768004504",
          " -48.11368183905732",
          " -48.12045088732199",
          " -48.12600966729613"
         ],
         "marker": {
          "color": [
           209214.2857142857,
           260000,
           320931.6551724138,
           282450,
           181666.66666666666,
           212223.07692307694,
           237723.29411764705,
           145000,
           204263.18181818182,
           168300,
           228040,
           283206.4827586207,
           383475,
           116000,
           231633.33333333334,
           263337.95454545453,
           115737.5,
           314500,
           202780.1,
           188998.88888888888,
           180831.33333333334,
           203320.57142857142,
           250000,
           320998.75,
           145000,
           135112.625,
           174999.5,
           218500,
           161000,
           158500,
           223500,
           148932.58333333334,
           75000,
           100000,
           202655.6883116883,
           79900,
           143800,
           283300,
           169610.87719298244,
           136445.45454545456,
           49000,
           221985.7142857143,
           150000,
           311666.6666666667,
           126178,
           210000,
           267500,
           230000,
           237500,
           246372.79166666666,
           200000,
           80000,
           239000,
           150000,
           337500,
           58300,
           153000,
           78725,
           247788,
           90390.90909090909,
           209250,
           139000,
           158475,
           259000,
           384760,
           70000,
           114340,
           160000,
           195000,
           82350,
           46966.666666666664,
           219000,
           140000,
           165000,
           69700,
           214945,
           149831.66666666666,
           368000,
           205559.43,
           340000,
           244622.5,
           350000,
           370000,
           323333.3333333333,
           385700,
           224662.5,
           324909.0909090909,
           322838.09523809527,
           350000,
           311250,
           328612.375,
           420000,
           372750,
           285000,
           225375,
           292888.27777777775,
           318166.6666666667,
           349103.7037037037,
           535756.1666666666,
           383666.6666666667,
           520000,
           379866.6666666667,
           78000,
           145666.66666666666,
           339450,
           280000,
           281225,
           225000,
           374999.6666666667,
           236000,
           190000,
           424000,
           359000,
           395607.6923076923,
           175000,
           296740,
           309166.6666666667,
           177428.57142857142,
           246666.66666666666,
           192500,
           325900,
           270000,
           170000,
           260000,
           110000,
           228444.22222222222,
           250000,
           399750,
           271415,
           190000,
           237937.375,
           95000,
           227500,
           213433.33333333334,
           404375,
           245080,
           249333.33333333334,
           237128.57142857142,
           157800,
           193333.33333333334,
           254990,
           200000,
           235000,
           243600,
           360000,
           70900,
           130000,
           343333.3333333333,
           283333.3333333333,
           290000,
           215000,
           192940,
           121333.33333333333,
           310000,
           386666.6666666667,
           110000,
           214835.7142857143,
           300998.75,
           110000,
           240000,
           175000,
           431666.6666666667,
           158593.33333333334,
           278166.6666666667,
           85000,
           275000,
           41666.666666666664,
           187166.66666666666,
           136000,
           340000,
           53266.666666666664,
           241000,
           198772.22222222222,
           168300,
           136833.33333333334,
           75000,
           272000,
           116749.625,
           113333.33333333333,
           217428.57142857142,
           69800,
           390000,
           160000,
           107500,
           225000,
           194980,
           273526.6666666667,
           165000,
           285000,
           87778,
           196633.33333333334,
           102450,
           83960,
           363333.3333333333,
           220000,
           250000
          ],
          "coloraxis": "coloraxis",
          "size": [
           4,
           2,
           2,
           1,
           1,
           1,
           1,
           1,
           1,
           1,
           1,
           3,
           3,
           2,
           2,
           1,
           1,
           1,
           1,
           1,
           1,
           1,
           1,
           1,
           1,
           1,
           1,
           1,
           1,
           1,
           1,
           1,
           1,
           1,
           1,
           1,
           1,
           1,
           1,
           3,
           2,
           2,
           1,
           1,
           1,
           1,
           1,
           1,
           5,
           2,
           2,
           1,
           1,
           1,
           1,
           1,
           1,
           1,
           1,
           1,
           1,
           3,
           2,
           2,
           1,
           1,
           1,
           1,
           1,
           1,
           1,
           1,
           1,
           1,
           1,
           1,
           1,
           1,
           1,
           2,
           1,
           3,
           2,
           1,
           1,
           1,
           1,
           9,
           3,
           2,
           2,
           2,
           1,
           1,
           1,
           1,
           1,
           1,
           1,
           1,
           1,
           1,
           1,
           1,
           1,
           1,
           1,
           1,
           1,
           1,
           1,
           1,
           6,
           3,
           2,
           2,
           1,
           1,
           1,
           1,
           1,
           1,
           1,
           1,
           2,
           2,
           1,
           1,
           1,
           1,
           1,
           1,
           1,
           1,
           2,
           2,
           2,
           1,
           1,
           1,
           1,
           3,
           1,
           1,
           1,
           1,
           1,
           1,
           3,
           1,
           1,
           1,
           1,
           1,
           1,
           1,
           1,
           1,
           1,
           1,
           2,
           2,
           1,
           1,
           1,
           1,
           1,
           1,
           1,
           1,
           1,
           1,
           1,
           1,
           1,
           1,
           1,
           1,
           1,
           1,
           1,
           1,
           1,
           1,
           1,
           1,
           3,
           1,
           1,
           1,
           1,
           1,
           1,
           1,
           1,
           1
          ],
          "sizemode": "area",
          "sizeref": 0.0225
         },
         "mode": "markers",
         "name": "",
         "showlegend": false,
         "subplot": "mapbox",
         "type": "scattermapbox"
        }
       ],
       "layout": {
        "coloraxis": {
         "colorbar": {
          "title": {
           "text": "Preço dos imóveis"
          }
         },
         "colorscale": [
          [
           0,
           "rgb(12,51,131)"
          ],
          [
           0.25,
           "rgb(10,136,186)"
          ],
          [
           0.5,
           "rgb(242,211,56)"
          ],
          [
           0.75,
           "rgb(242,143,56)"
          ],
          [
           1,
           "rgb(217,30,30)"
          ]
         ]
        },
        "legend": {
         "itemsizing": "constant",
         "tracegroupgap": 0
        },
        "mapbox": {
         "center": {
          "lat": -15.878191211624543,
          "lon": -48.10520207922798
         },
         "domain": {
          "x": [
           0,
           1
          ],
          "y": [
           0,
           1
          ]
         },
         "style": "carto-positron",
         "zoom": 12.5
        },
        "margin": {
         "b": 0,
         "l": 0,
         "r": 0,
         "t": 0
        },
        "template": {
         "data": {
          "bar": [
           {
            "error_x": {
             "color": "#2a3f5f"
            },
            "error_y": {
             "color": "#2a3f5f"
            },
            "marker": {
             "line": {
              "color": "#E5ECF6",
              "width": 0.5
             },
             "pattern": {
              "fillmode": "overlay",
              "size": 10,
              "solidity": 0.2
             }
            },
            "type": "bar"
           }
          ],
          "barpolar": [
           {
            "marker": {
             "line": {
              "color": "#E5ECF6",
              "width": 0.5
             },
             "pattern": {
              "fillmode": "overlay",
              "size": 10,
              "solidity": 0.2
             }
            },
            "type": "barpolar"
           }
          ],
          "carpet": [
           {
            "aaxis": {
             "endlinecolor": "#2a3f5f",
             "gridcolor": "white",
             "linecolor": "white",
             "minorgridcolor": "white",
             "startlinecolor": "#2a3f5f"
            },
            "baxis": {
             "endlinecolor": "#2a3f5f",
             "gridcolor": "white",
             "linecolor": "white",
             "minorgridcolor": "white",
             "startlinecolor": "#2a3f5f"
            },
            "type": "carpet"
           }
          ],
          "choropleth": [
           {
            "colorbar": {
             "outlinewidth": 0,
             "ticks": ""
            },
            "type": "choropleth"
           }
          ],
          "contour": [
           {
            "colorbar": {
             "outlinewidth": 0,
             "ticks": ""
            },
            "colorscale": [
             [
              0,
              "#0d0887"
             ],
             [
              0.1111111111111111,
              "#46039f"
             ],
             [
              0.2222222222222222,
              "#7201a8"
             ],
             [
              0.3333333333333333,
              "#9c179e"
             ],
             [
              0.4444444444444444,
              "#bd3786"
             ],
             [
              0.5555555555555556,
              "#d8576b"
             ],
             [
              0.6666666666666666,
              "#ed7953"
             ],
             [
              0.7777777777777778,
              "#fb9f3a"
             ],
             [
              0.8888888888888888,
              "#fdca26"
             ],
             [
              1,
              "#f0f921"
             ]
            ],
            "type": "contour"
           }
          ],
          "contourcarpet": [
           {
            "colorbar": {
             "outlinewidth": 0,
             "ticks": ""
            },
            "type": "contourcarpet"
           }
          ],
          "heatmap": [
           {
            "colorbar": {
             "outlinewidth": 0,
             "ticks": ""
            },
            "colorscale": [
             [
              0,
              "#0d0887"
             ],
             [
              0.1111111111111111,
              "#46039f"
             ],
             [
              0.2222222222222222,
              "#7201a8"
             ],
             [
              0.3333333333333333,
              "#9c179e"
             ],
             [
              0.4444444444444444,
              "#bd3786"
             ],
             [
              0.5555555555555556,
              "#d8576b"
             ],
             [
              0.6666666666666666,
              "#ed7953"
             ],
             [
              0.7777777777777778,
              "#fb9f3a"
             ],
             [
              0.8888888888888888,
              "#fdca26"
             ],
             [
              1,
              "#f0f921"
             ]
            ],
            "type": "heatmap"
           }
          ],
          "heatmapgl": [
           {
            "colorbar": {
             "outlinewidth": 0,
             "ticks": ""
            },
            "colorscale": [
             [
              0,
              "#0d0887"
             ],
             [
              0.1111111111111111,
              "#46039f"
             ],
             [
              0.2222222222222222,
              "#7201a8"
             ],
             [
              0.3333333333333333,
              "#9c179e"
             ],
             [
              0.4444444444444444,
              "#bd3786"
             ],
             [
              0.5555555555555556,
              "#d8576b"
             ],
             [
              0.6666666666666666,
              "#ed7953"
             ],
             [
              0.7777777777777778,
              "#fb9f3a"
             ],
             [
              0.8888888888888888,
              "#fdca26"
             ],
             [
              1,
              "#f0f921"
             ]
            ],
            "type": "heatmapgl"
           }
          ],
          "histogram": [
           {
            "marker": {
             "pattern": {
              "fillmode": "overlay",
              "size": 10,
              "solidity": 0.2
             }
            },
            "type": "histogram"
           }
          ],
          "histogram2d": [
           {
            "colorbar": {
             "outlinewidth": 0,
             "ticks": ""
            },
            "colorscale": [
             [
              0,
              "#0d0887"
             ],
             [
              0.1111111111111111,
              "#46039f"
             ],
             [
              0.2222222222222222,
              "#7201a8"
             ],
             [
              0.3333333333333333,
              "#9c179e"
             ],
             [
              0.4444444444444444,
              "#bd3786"
             ],
             [
              0.5555555555555556,
              "#d8576b"
             ],
             [
              0.6666666666666666,
              "#ed7953"
             ],
             [
              0.7777777777777778,
              "#fb9f3a"
             ],
             [
              0.8888888888888888,
              "#fdca26"
             ],
             [
              1,
              "#f0f921"
             ]
            ],
            "type": "histogram2d"
           }
          ],
          "histogram2dcontour": [
           {
            "colorbar": {
             "outlinewidth": 0,
             "ticks": ""
            },
            "colorscale": [
             [
              0,
              "#0d0887"
             ],
             [
              0.1111111111111111,
              "#46039f"
             ],
             [
              0.2222222222222222,
              "#7201a8"
             ],
             [
              0.3333333333333333,
              "#9c179e"
             ],
             [
              0.4444444444444444,
              "#bd3786"
             ],
             [
              0.5555555555555556,
              "#d8576b"
             ],
             [
              0.6666666666666666,
              "#ed7953"
             ],
             [
              0.7777777777777778,
              "#fb9f3a"
             ],
             [
              0.8888888888888888,
              "#fdca26"
             ],
             [
              1,
              "#f0f921"
             ]
            ],
            "type": "histogram2dcontour"
           }
          ],
          "mesh3d": [
           {
            "colorbar": {
             "outlinewidth": 0,
             "ticks": ""
            },
            "type": "mesh3d"
           }
          ],
          "parcoords": [
           {
            "line": {
             "colorbar": {
              "outlinewidth": 0,
              "ticks": ""
             }
            },
            "type": "parcoords"
           }
          ],
          "pie": [
           {
            "automargin": true,
            "type": "pie"
           }
          ],
          "scatter": [
           {
            "fillpattern": {
             "fillmode": "overlay",
             "size": 10,
             "solidity": 0.2
            },
            "type": "scatter"
           }
          ],
          "scatter3d": [
           {
            "line": {
             "colorbar": {
              "outlinewidth": 0,
              "ticks": ""
             }
            },
            "marker": {
             "colorbar": {
              "outlinewidth": 0,
              "ticks": ""
             }
            },
            "type": "scatter3d"
           }
          ],
          "scattercarpet": [
           {
            "marker": {
             "colorbar": {
              "outlinewidth": 0,
              "ticks": ""
             }
            },
            "type": "scattercarpet"
           }
          ],
          "scattergeo": [
           {
            "marker": {
             "colorbar": {
              "outlinewidth": 0,
              "ticks": ""
             }
            },
            "type": "scattergeo"
           }
          ],
          "scattergl": [
           {
            "marker": {
             "colorbar": {
              "outlinewidth": 0,
              "ticks": ""
             }
            },
            "type": "scattergl"
           }
          ],
          "scattermapbox": [
           {
            "marker": {
             "colorbar": {
              "outlinewidth": 0,
              "ticks": ""
             }
            },
            "type": "scattermapbox"
           }
          ],
          "scatterpolar": [
           {
            "marker": {
             "colorbar": {
              "outlinewidth": 0,
              "ticks": ""
             }
            },
            "type": "scatterpolar"
           }
          ],
          "scatterpolargl": [
           {
            "marker": {
             "colorbar": {
              "outlinewidth": 0,
              "ticks": ""
             }
            },
            "type": "scatterpolargl"
           }
          ],
          "scatterternary": [
           {
            "marker": {
             "colorbar": {
              "outlinewidth": 0,
              "ticks": ""
             }
            },
            "type": "scatterternary"
           }
          ],
          "surface": [
           {
            "colorbar": {
             "outlinewidth": 0,
             "ticks": ""
            },
            "colorscale": [
             [
              0,
              "#0d0887"
             ],
             [
              0.1111111111111111,
              "#46039f"
             ],
             [
              0.2222222222222222,
              "#7201a8"
             ],
             [
              0.3333333333333333,
              "#9c179e"
             ],
             [
              0.4444444444444444,
              "#bd3786"
             ],
             [
              0.5555555555555556,
              "#d8576b"
             ],
             [
              0.6666666666666666,
              "#ed7953"
             ],
             [
              0.7777777777777778,
              "#fb9f3a"
             ],
             [
              0.8888888888888888,
              "#fdca26"
             ],
             [
              1,
              "#f0f921"
             ]
            ],
            "type": "surface"
           }
          ],
          "table": [
           {
            "cells": {
             "fill": {
              "color": "#EBF0F8"
             },
             "line": {
              "color": "white"
             }
            },
            "header": {
             "fill": {
              "color": "#C8D4E3"
             },
             "line": {
              "color": "white"
             }
            },
            "type": "table"
           }
          ]
         },
         "layout": {
          "annotationdefaults": {
           "arrowcolor": "#2a3f5f",
           "arrowhead": 0,
           "arrowwidth": 1
          },
          "autotypenumbers": "strict",
          "coloraxis": {
           "colorbar": {
            "outlinewidth": 0,
            "ticks": ""
           }
          },
          "colorscale": {
           "diverging": [
            [
             0,
             "#8e0152"
            ],
            [
             0.1,
             "#c51b7d"
            ],
            [
             0.2,
             "#de77ae"
            ],
            [
             0.3,
             "#f1b6da"
            ],
            [
             0.4,
             "#fde0ef"
            ],
            [
             0.5,
             "#f7f7f7"
            ],
            [
             0.6,
             "#e6f5d0"
            ],
            [
             0.7,
             "#b8e186"
            ],
            [
             0.8,
             "#7fbc41"
            ],
            [
             0.9,
             "#4d9221"
            ],
            [
             1,
             "#276419"
            ]
           ],
           "sequential": [
            [
             0,
             "#0d0887"
            ],
            [
             0.1111111111111111,
             "#46039f"
            ],
            [
             0.2222222222222222,
             "#7201a8"
            ],
            [
             0.3333333333333333,
             "#9c179e"
            ],
            [
             0.4444444444444444,
             "#bd3786"
            ],
            [
             0.5555555555555556,
             "#d8576b"
            ],
            [
             0.6666666666666666,
             "#ed7953"
            ],
            [
             0.7777777777777778,
             "#fb9f3a"
            ],
            [
             0.8888888888888888,
             "#fdca26"
            ],
            [
             1,
             "#f0f921"
            ]
           ],
           "sequentialminus": [
            [
             0,
             "#0d0887"
            ],
            [
             0.1111111111111111,
             "#46039f"
            ],
            [
             0.2222222222222222,
             "#7201a8"
            ],
            [
             0.3333333333333333,
             "#9c179e"
            ],
            [
             0.4444444444444444,
             "#bd3786"
            ],
            [
             0.5555555555555556,
             "#d8576b"
            ],
            [
             0.6666666666666666,
             "#ed7953"
            ],
            [
             0.7777777777777778,
             "#fb9f3a"
            ],
            [
             0.8888888888888888,
             "#fdca26"
            ],
            [
             1,
             "#f0f921"
            ]
           ]
          },
          "colorway": [
           "#636efa",
           "#EF553B",
           "#00cc96",
           "#ab63fa",
           "#FFA15A",
           "#19d3f3",
           "#FF6692",
           "#B6E880",
           "#FF97FF",
           "#FECB52"
          ],
          "font": {
           "color": "#2a3f5f"
          },
          "geo": {
           "bgcolor": "white",
           "lakecolor": "white",
           "landcolor": "#E5ECF6",
           "showlakes": true,
           "showland": true,
           "subunitcolor": "white"
          },
          "hoverlabel": {
           "align": "left"
          },
          "hovermode": "closest",
          "mapbox": {
           "style": "light"
          },
          "paper_bgcolor": "white",
          "plot_bgcolor": "#E5ECF6",
          "polar": {
           "angularaxis": {
            "gridcolor": "white",
            "linecolor": "white",
            "ticks": ""
           },
           "bgcolor": "#E5ECF6",
           "radialaxis": {
            "gridcolor": "white",
            "linecolor": "white",
            "ticks": ""
           }
          },
          "scene": {
           "xaxis": {
            "backgroundcolor": "#E5ECF6",
            "gridcolor": "white",
            "gridwidth": 2,
            "linecolor": "white",
            "showbackground": true,
            "ticks": "",
            "zerolinecolor": "white"
           },
           "yaxis": {
            "backgroundcolor": "#E5ECF6",
            "gridcolor": "white",
            "gridwidth": 2,
            "linecolor": "white",
            "showbackground": true,
            "ticks": "",
            "zerolinecolor": "white"
           },
           "zaxis": {
            "backgroundcolor": "#E5ECF6",
            "gridcolor": "white",
            "gridwidth": 2,
            "linecolor": "white",
            "showbackground": true,
            "ticks": "",
            "zerolinecolor": "white"
           }
          },
          "shapedefaults": {
           "line": {
            "color": "#2a3f5f"
           }
          },
          "ternary": {
           "aaxis": {
            "gridcolor": "white",
            "linecolor": "white",
            "ticks": ""
           },
           "baxis": {
            "gridcolor": "white",
            "linecolor": "white",
            "ticks": ""
           },
           "bgcolor": "#E5ECF6",
           "caxis": {
            "gridcolor": "white",
            "linecolor": "white",
            "ticks": ""
           }
          },
          "title": {
           "x": 0.05
          },
          "xaxis": {
           "automargin": true,
           "gridcolor": "white",
           "linecolor": "white",
           "ticks": "",
           "title": {
            "standoff": 15
           },
           "zerolinecolor": "white",
           "zerolinewidth": 2
          },
          "yaxis": {
           "automargin": true,
           "gridcolor": "white",
           "linecolor": "white",
           "ticks": "",
           "title": {
            "standoff": 15
           },
           "zerolinecolor": "white",
           "zerolinewidth": 2
          }
         }
        }
       }
      },
      "text/html": [
       "<div>                            <div id=\"f1fca572-e864-4153-98ea-3ce815c6dcd1\" class=\"plotly-graph-div\" style=\"height:525px; width:100%;\"></div>            <script type=\"text/javascript\">                require([\"plotly\"], function(Plotly) {                    window.PLOTLYENV=window.PLOTLYENV || {};                                    if (document.getElementById(\"f1fca572-e864-4153-98ea-3ce815c6dcd1\")) {                    Plotly.newPlot(                        \"f1fca572-e864-4153-98ea-3ce815c6dcd1\",                        [{\"hovertemplate\":\"0=%{marker.size}<br>latitude=%{lat}<br>longitude=%{lon}<br>Pre\\u00e7o dos im\\u00f3veis=%{marker.color}<extra></extra>\",\"lat\":[\"-15.85281492934229\",\"-15.854471390078723\",\"-15.855954181583032\",\"-15.857003580474384\",\"-15.858894728758774\",\"-15.859811710860406\",\"-15.860899954620459\",\"-15.862544525189197\",\"-15.862810942571167\",\"-15.863758482999485\",\"-15.86377344649297\",\"-15.864429527293499\",\"-15.86498246497334\",\"-15.866249499838348\",\"-15.866427096955162\",\"-15.866467705125428\",\"-15.867567088365508\",\"-15.867704339258456\",\"-15.86787945426569\",\"-15.868191443333105\",\"-15.868567239188385\",\"-15.870089915410876\",\"-15.870267828033931\",\"-15.870504905684792\",\"-15.870714012953641\",\"-15.870769824111989\",\"-15.870956536689437\",\"-15.87168084960523\",\"-15.87229126766909\",\"-15.872906260495819\",\"-15.872934485864539\",\"-15.873270913201631\",\"-15.873415321921176\",\"-15.873544637849974\",\"-15.874505597460054\",\"-15.874921709043127\",\"-15.875483241716069\",\"-15.875859755334085\",\"-15.876050241346821\",\"-15.876737115665238\",\"-15.877402674085562\",\"-15.878436310255644\",\"-15.878920735602435\",\"-15.87905182654271\",\"-15.87917262754653\",\"-15.879255177780205\",\"-15.880774329428991\",\"-15.880858576919632\",\"-15.881223868482165\",\"-15.882072521898367\",\"-15.882143905944265\",\"-15.882230483116414\",\"-15.883275074574149\",\"-15.883679579015485\",\"-15.883844754818588\",\"-15.88451055143896\",\"-15.884706489237438\",\"-15.885092179524374\",\"-15.885313464545222\",\"-15.885333361721543\",\"-15.885865743653508\",\"-15.886141129453447\",\"-15.886321498854747\",\"-15.886609512227091\",\"-15.887156915050575\",\"-15.88721951164377\",\"-15.888152489411452\",\"-15.88869322039697\",\"-15.888916348398105\",\"-15.889615608944593\",\"-15.891247238229269\",\"-15.891776697860314\",\"-15.891883248037917\",\"-15.891968728029996\",\"-15.892481819386818\",\"-15.894289969286815\",\"-15.89508490988754\",\"-15.895729658752451\",\"-15.896158968539169\",\"-15.851932500574971\",\"-15.854094684286784\",\"-15.855044924934832\",\"-15.855268244822634\",\"-15.856503032332279\",\"-15.857542742568548\",\"-15.858012381637142\",\"-15.858449911503671\",\"-15.8591555086571\",\"-15.860150038861736\",\"-15.860769284461055\",\"-15.861913080256768\",\"-15.862891790646822\",\"-15.863100158437765\",\"-15.864344277991682\",\"-15.86494717304739\",\"-15.86530977672352\",\"-15.865980136247062\",\"-15.866307259725222\",\"-15.866898466576371\",\"-15.866979173793517\",\"-15.867649385377758\",\"-15.868219059688109\",\"-15.868376167444241\",\"-15.869073794679796\",\"-15.869261345322371\",\"-15.869343921435384\",\"-15.869910407195048\",\"-15.870328949155228\",\"-15.87134611859877\",\"-15.871735186843207\",\"-15.871753814596568\",\"-15.872823165009999\",\"-15.873048289383961\",\"-15.873146297009486\",\"-15.873970625279675\",\"-15.87411524884355\",\"-15.874245545749314\",\"-15.874322573005268\",\"-15.874838813270504\",\"-15.87490476333859\",\"-15.875172413590613\",\"-15.875440802542585\",\"-15.87628690321509\",\"-15.876344180008788\",\"-15.877174384906173\",\"-15.877221489273946\",\"-15.877394595400173\",\"-15.877479853609502\",\"-15.878140616941456\",\"-15.878486871044082\",\"-15.879102834660232\",\"-15.879682439345114\",\"-15.879918745306743\",\"-15.879952682070021\",\"-15.88003447407259\",\"-15.880057896558048\",\"-15.881438762833806\",\"-15.88154092836035\",\"-15.881603608688964\",\"-15.881820279817644\",\"-15.88193830368694\",\"-15.88200886401925\",\"-15.882143905944265\",\"-15.882608987318113\",\"-15.882882754918217\",\"-15.882977480164952\",\"-15.883009151220076\",\"-15.883179859217234\",\"-15.883370714052091\",\"-15.883518401146691\",\"-15.883935343304458\",\"-15.883940533991977\",\"-15.884189308889953\",\"-15.88424268602474\",\"-15.884813588319249\",\"-15.885009356251565\",\"-15.8851399022477\",\"-15.88536392568552\",\"-15.885914546396833\",\"-15.885925087934142\",\"-15.886095551940185\",\"-15.88638065423701\",\"-15.886719306891207\",\"-15.886934327009703\",\"-15.887207722096905\",\"-15.88764017047797\",\"-15.887852615144755\",\"-15.888406615173203\",\"-15.888629228717877\",\"-15.88883430655705\",\"-15.888837724286343\",\"-15.889795701334274\",\"-15.890086644152207\",\"-15.890286041628375\",\"-15.8906866013751\",\"-15.890770484521905\",\"-15.891161681847912\",\"-15.891386139453608\",\"-15.891402182996318\",\"-15.891832465031948\",\"-15.89191944671329\",\"-15.892746009847924\",\"-15.892960082576872\",\"-15.892994122974757\",\"-15.893083345529146\",\"-15.893673743048726\",\"-15.893833867742408\",\"-15.894111523792267\",\"-15.894233396228005\",\"-15.895217431639853\",\"-15.895345148718699\",\"-15.895386772393941\",\"-15.895469072861\",\"-15.896501853581654\",\"-15.896689896573\",\"-15.8993399951858\"],\"legendgroup\":\"\",\"lon\":[\" -48.07376479162934\",\" -48.07604798580723\",\" -48.06950116272218\",\" -48.08264080274787\",\" -48.0713784436007\",\" -48.074294258914115\",\" -48.07705924177919\",\" -48.09143683974839\",\" -48.079925793846854\",\" -48.07577624519392\",\" -48.07199773554532\",\" -48.08242791463846\",\" -48.0961597443023\",\" -48.0981314141128\",\" -48.08553938970009\",\" -48.06214192392817\",\" -48.06461684259848\",\" -48.05682546940082\",\" -48.0877750569753\",\" -48.07696737196877\",\" -48.06719182270189\",\" -48.074450834111495\",\" -48.06844180875772\",\" -48.093427273723606\",\" -48.08304941476127\",\" -48.077487324960856\",\" -48.071726164270686\",\" -48.09594620635299\",\" -48.06316956115106\",\" -48.08239049706196\",\" -48.0646370380746\",\" -48.079253147221706\",\" -48.105770671567214\",\" -48.06795949904651\",\" -48.06054300742409\",\" -48.0991690383578\",\" -48.10555950870533\",\" -48.09319603509419\",\" -48.10125828557616\",\" -48.06993093234583\",\" -48.07166969799305\",\" -48.07479242022789\",\" -48.077025374520616\",\" -48.0941768312436\",\" -48.107506711190055\",\" -48.08058625789296\",\" -48.12046765203356\",\" -48.11269033812178\",\" -48.07401905585764\",\" -48.09155373078865\",\" -48.063501412766435\",\" -48.077875408342464\",\" -48.10221933290608\",\" -48.125353078289976\",\" -48.0824103323485\",\" -48.10504851040007\",\" -48.12875246427392\",\" -48.09829122824255\",\" -48.10826339265746\",\" -48.121331660618026\",\" -48.08919442364523\",\" -48.15090046318128\",\" -48.09566450801294\",\" -48.14796306814208\",\" -48.14726425355604\",\" -48.091522091967526\",\" -48.09958994048566\",\" -48.10345957184157\",\" -48.1067838885328\",\" -48.09442098601877\",\" -48.096077966223184\",\" -48.104974127992996\",\" -48.09931517222642\",\" -48.122775282000774\",\" -48.136293329761465\",\" -48.110939219366486\",\" -48.142538939620756\",\" -48.114169312669894\",\" -48.11739441518057\",\" -48.07449435244879\",\" -48.07652005457276\",\" -48.06887953246958\",\" -48.07878994875818\",\" -48.08306995617108\",\" -48.07193634305087\",\" -48.085856894840575\",\" -48.07489680265195\",\" -48.07781388393629\",\" -48.08853992643308\",\" -48.08115716155888\",\" -48.091971598995464\",\" -48.07278540578079\",\" -48.083494849813604\",\" -48.09651061152601\",\" -48.08639348082362\",\" -48.09867253348901\",\" -48.074856779742994\",\" -48.08834855531934\",\" -48.05842229184415\",\" -48.077716734438376\",\" -48.06217117362418\",\" -48.08074115350348\",\" -48.06383306149591\",\" -48.10215697555955\",\" -48.09402396752223\",\" -48.06719633362168\",\" -48.08299878139798\",\" -48.09717465802693\",\" -48.074266769002605\",\" -48.07682780183796\",\" -48.10380545382008\",\" -48.06078870487059\",\" -48.09987078095621\",\" -48.062629516874\",\" -48.109804201339365\",\" -48.081998606510666\",\" -48.065339030753876\",\" -48.117607283719614\",\" -48.06716975728233\",\" -48.1018322782797\",\" -48.09397966661189\",\" -48.07044708085841\",\" -48.07221390651939\",\" -48.104958015049554\",\" -48.118823822317914\",\" -48.09722524415772\",\" -48.07725955301243\",\" -48.07537646276072\",\" -48.10860095074429\",\" -48.12302894952972\",\" -48.11158794203517\",\" -48.124676278673064\",\" -48.10273516606713\",\" -48.11373162729978\",\" -48.06303214526124\",\" -48.06552155840925\",\" -48.068582001789395\",\" -48.11651788926065\",\" -48.12742685525665\",\" -48.10709608565132\",\" -48.07073800075385\",\" -48.09991338565928\",\" -48.063501412766435\",\" -48.11947559826455\",\" -48.09284656730632\",\" -48.10956484232961\",\" -48.13032493291954\",\" -48.073295831342946\",\" -48.11188239843845\",\" -48.07572232782848\",\" -48.078986896790894\",\" -48.122256674207804\",\" -48.145141754082715\",\" -48.11213452606561\",\" -48.09557675892803\",\" -48.14666755529745\",\" -48.124179267941564\",\" -48.08177853891466\",\" -48.14853208624515\",\" -48.15017403191548\",\" -48.10758479971\",\" -48.09734353812553\",\" -48.12779199022573\",\" -48.10022978584141\",\" -48.1459632906555\",\" -48.089020689311106\",\" -48.14627588584832\",\" -48.120955895384036\",\" -48.14611332396394\",\" -48.090855198898474\",\" -48.143464686877074\",\" -48.124362343442726\",\" -48.10608774579253\",\" -48.14634989449299\",\" -48.09376624204893\",\" -48.126599871945565\",\" -48.148105079874156\",\" -48.108849013894684\",\" -48.119723652888055\",\" -48.10133256223572\",\" -48.13729111147043\",\" -48.1112229150226\",\" -48.12270109904582\",\" -48.14091306842818\",\" -48.10418527752632\",\" -48.14385309685865\",\" -48.107498734595225\",\" -48.125614746421604\",\" -48.115230619631824\",\" -48.12776885630337\",\" -48.11025205094176\",\" -48.117456544170416\",\" -48.1467768004504\",\" -48.11368183905732\",\" -48.12045088732199\",\" -48.12600966729613\"],\"marker\":{\"color\":[209214.2857142857,260000.0,320931.6551724138,282450.0,181666.66666666666,212223.07692307694,237723.29411764705,145000.0,204263.18181818182,168300.0,228040.0,283206.4827586207,383475.0,116000.0,231633.33333333334,263337.95454545453,115737.5,314500.0,202780.1,188998.88888888888,180831.33333333334,203320.57142857142,250000.0,320998.75,145000.0,135112.625,174999.5,218500.0,161000.0,158500.0,223500.0,148932.58333333334,75000.0,100000.0,202655.6883116883,79900.0,143800.0,283300.0,169610.87719298244,136445.45454545456,49000.0,221985.7142857143,150000.0,311666.6666666667,126178.0,210000.0,267500.0,230000.0,237500.0,246372.79166666666,200000.0,80000.0,239000.0,150000.0,337500.0,58300.0,153000.0,78725.0,247788.0,90390.90909090909,209250.0,139000.0,158475.0,259000.0,384760.0,70000.0,114340.0,160000.0,195000.0,82350.0,46966.666666666664,219000.0,140000.0,165000.0,69700.0,214945.0,149831.66666666666,368000.0,205559.43,340000.0,244622.5,350000.0,370000.0,323333.3333333333,385700.0,224662.5,324909.0909090909,322838.09523809527,350000.0,311250.0,328612.375,420000.0,372750.0,285000.0,225375.0,292888.27777777775,318166.6666666667,349103.7037037037,535756.1666666666,383666.6666666667,520000.0,379866.6666666667,78000.0,145666.66666666666,339450.0,280000.0,281225.0,225000.0,374999.6666666667,236000.0,190000.0,424000.0,359000.0,395607.6923076923,175000.0,296740.0,309166.6666666667,177428.57142857142,246666.66666666666,192500.0,325900.0,270000.0,170000.0,260000.0,110000.0,228444.22222222222,250000.0,399750.0,271415.0,190000.0,237937.375,95000.0,227500.0,213433.33333333334,404375.0,245080.0,249333.33333333334,237128.57142857142,157800.0,193333.33333333334,254990.0,200000.0,235000.0,243600.0,360000.0,70900.0,130000.0,343333.3333333333,283333.3333333333,290000.0,215000.0,192940.0,121333.33333333333,310000.0,386666.6666666667,110000.0,214835.7142857143,300998.75,110000.0,240000.0,175000.0,431666.6666666667,158593.33333333334,278166.6666666667,85000.0,275000.0,41666.666666666664,187166.66666666666,136000.0,340000.0,53266.666666666664,241000.0,198772.22222222222,168300.0,136833.33333333334,75000.0,272000.0,116749.625,113333.33333333333,217428.57142857142,69800.0,390000.0,160000.0,107500.0,225000.0,194980.0,273526.6666666667,165000.0,285000.0,87778.0,196633.33333333334,102450.0,83960.0,363333.3333333333,220000.0,250000.0],\"coloraxis\":\"coloraxis\",\"size\":[4,2,2,1,1,1,1,1,1,1,1,3,3,2,2,1,1,1,1,1,1,1,1,1,1,1,1,1,1,1,1,1,1,1,1,1,1,1,1,3,2,2,1,1,1,1,1,1,5,2,2,1,1,1,1,1,1,1,1,1,1,3,2,2,1,1,1,1,1,1,1,1,1,1,1,1,1,1,1,2,1,3,2,1,1,1,1,9,3,2,2,2,1,1,1,1,1,1,1,1,1,1,1,1,1,1,1,1,1,1,1,1,6,3,2,2,1,1,1,1,1,1,1,1,2,2,1,1,1,1,1,1,1,1,2,2,2,1,1,1,1,3,1,1,1,1,1,1,3,1,1,1,1,1,1,1,1,1,1,1,2,2,1,1,1,1,1,1,1,1,1,1,1,1,1,1,1,1,1,1,1,1,1,1,1,1,3,1,1,1,1,1,1,1,1,1],\"sizemode\":\"area\",\"sizeref\":0.0225},\"mode\":\"markers\",\"name\":\"\",\"showlegend\":false,\"subplot\":\"mapbox\",\"type\":\"scattermapbox\"}],                        {\"template\":{\"data\":{\"histogram2dcontour\":[{\"type\":\"histogram2dcontour\",\"colorbar\":{\"outlinewidth\":0,\"ticks\":\"\"},\"colorscale\":[[0.0,\"#0d0887\"],[0.1111111111111111,\"#46039f\"],[0.2222222222222222,\"#7201a8\"],[0.3333333333333333,\"#9c179e\"],[0.4444444444444444,\"#bd3786\"],[0.5555555555555556,\"#d8576b\"],[0.6666666666666666,\"#ed7953\"],[0.7777777777777778,\"#fb9f3a\"],[0.8888888888888888,\"#fdca26\"],[1.0,\"#f0f921\"]]}],\"choropleth\":[{\"type\":\"choropleth\",\"colorbar\":{\"outlinewidth\":0,\"ticks\":\"\"}}],\"histogram2d\":[{\"type\":\"histogram2d\",\"colorbar\":{\"outlinewidth\":0,\"ticks\":\"\"},\"colorscale\":[[0.0,\"#0d0887\"],[0.1111111111111111,\"#46039f\"],[0.2222222222222222,\"#7201a8\"],[0.3333333333333333,\"#9c179e\"],[0.4444444444444444,\"#bd3786\"],[0.5555555555555556,\"#d8576b\"],[0.6666666666666666,\"#ed7953\"],[0.7777777777777778,\"#fb9f3a\"],[0.8888888888888888,\"#fdca26\"],[1.0,\"#f0f921\"]]}],\"heatmap\":[{\"type\":\"heatmap\",\"colorbar\":{\"outlinewidth\":0,\"ticks\":\"\"},\"colorscale\":[[0.0,\"#0d0887\"],[0.1111111111111111,\"#46039f\"],[0.2222222222222222,\"#7201a8\"],[0.3333333333333333,\"#9c179e\"],[0.4444444444444444,\"#bd3786\"],[0.5555555555555556,\"#d8576b\"],[0.6666666666666666,\"#ed7953\"],[0.7777777777777778,\"#fb9f3a\"],[0.8888888888888888,\"#fdca26\"],[1.0,\"#f0f921\"]]}],\"heatmapgl\":[{\"type\":\"heatmapgl\",\"colorbar\":{\"outlinewidth\":0,\"ticks\":\"\"},\"colorscale\":[[0.0,\"#0d0887\"],[0.1111111111111111,\"#46039f\"],[0.2222222222222222,\"#7201a8\"],[0.3333333333333333,\"#9c179e\"],[0.4444444444444444,\"#bd3786\"],[0.5555555555555556,\"#d8576b\"],[0.6666666666666666,\"#ed7953\"],[0.7777777777777778,\"#fb9f3a\"],[0.8888888888888888,\"#fdca26\"],[1.0,\"#f0f921\"]]}],\"contourcarpet\":[{\"type\":\"contourcarpet\",\"colorbar\":{\"outlinewidth\":0,\"ticks\":\"\"}}],\"contour\":[{\"type\":\"contour\",\"colorbar\":{\"outlinewidth\":0,\"ticks\":\"\"},\"colorscale\":[[0.0,\"#0d0887\"],[0.1111111111111111,\"#46039f\"],[0.2222222222222222,\"#7201a8\"],[0.3333333333333333,\"#9c179e\"],[0.4444444444444444,\"#bd3786\"],[0.5555555555555556,\"#d8576b\"],[0.6666666666666666,\"#ed7953\"],[0.7777777777777778,\"#fb9f3a\"],[0.8888888888888888,\"#fdca26\"],[1.0,\"#f0f921\"]]}],\"surface\":[{\"type\":\"surface\",\"colorbar\":{\"outlinewidth\":0,\"ticks\":\"\"},\"colorscale\":[[0.0,\"#0d0887\"],[0.1111111111111111,\"#46039f\"],[0.2222222222222222,\"#7201a8\"],[0.3333333333333333,\"#9c179e\"],[0.4444444444444444,\"#bd3786\"],[0.5555555555555556,\"#d8576b\"],[0.6666666666666666,\"#ed7953\"],[0.7777777777777778,\"#fb9f3a\"],[0.8888888888888888,\"#fdca26\"],[1.0,\"#f0f921\"]]}],\"mesh3d\":[{\"type\":\"mesh3d\",\"colorbar\":{\"outlinewidth\":0,\"ticks\":\"\"}}],\"scatter\":[{\"fillpattern\":{\"fillmode\":\"overlay\",\"size\":10,\"solidity\":0.2},\"type\":\"scatter\"}],\"parcoords\":[{\"type\":\"parcoords\",\"line\":{\"colorbar\":{\"outlinewidth\":0,\"ticks\":\"\"}}}],\"scatterpolargl\":[{\"type\":\"scatterpolargl\",\"marker\":{\"colorbar\":{\"outlinewidth\":0,\"ticks\":\"\"}}}],\"bar\":[{\"error_x\":{\"color\":\"#2a3f5f\"},\"error_y\":{\"color\":\"#2a3f5f\"},\"marker\":{\"line\":{\"color\":\"#E5ECF6\",\"width\":0.5},\"pattern\":{\"fillmode\":\"overlay\",\"size\":10,\"solidity\":0.2}},\"type\":\"bar\"}],\"scattergeo\":[{\"type\":\"scattergeo\",\"marker\":{\"colorbar\":{\"outlinewidth\":0,\"ticks\":\"\"}}}],\"scatterpolar\":[{\"type\":\"scatterpolar\",\"marker\":{\"colorbar\":{\"outlinewidth\":0,\"ticks\":\"\"}}}],\"histogram\":[{\"marker\":{\"pattern\":{\"fillmode\":\"overlay\",\"size\":10,\"solidity\":0.2}},\"type\":\"histogram\"}],\"scattergl\":[{\"type\":\"scattergl\",\"marker\":{\"colorbar\":{\"outlinewidth\":0,\"ticks\":\"\"}}}],\"scatter3d\":[{\"type\":\"scatter3d\",\"line\":{\"colorbar\":{\"outlinewidth\":0,\"ticks\":\"\"}},\"marker\":{\"colorbar\":{\"outlinewidth\":0,\"ticks\":\"\"}}}],\"scattermapbox\":[{\"type\":\"scattermapbox\",\"marker\":{\"colorbar\":{\"outlinewidth\":0,\"ticks\":\"\"}}}],\"scatterternary\":[{\"type\":\"scatterternary\",\"marker\":{\"colorbar\":{\"outlinewidth\":0,\"ticks\":\"\"}}}],\"scattercarpet\":[{\"type\":\"scattercarpet\",\"marker\":{\"colorbar\":{\"outlinewidth\":0,\"ticks\":\"\"}}}],\"carpet\":[{\"aaxis\":{\"endlinecolor\":\"#2a3f5f\",\"gridcolor\":\"white\",\"linecolor\":\"white\",\"minorgridcolor\":\"white\",\"startlinecolor\":\"#2a3f5f\"},\"baxis\":{\"endlinecolor\":\"#2a3f5f\",\"gridcolor\":\"white\",\"linecolor\":\"white\",\"minorgridcolor\":\"white\",\"startlinecolor\":\"#2a3f5f\"},\"type\":\"carpet\"}],\"table\":[{\"cells\":{\"fill\":{\"color\":\"#EBF0F8\"},\"line\":{\"color\":\"white\"}},\"header\":{\"fill\":{\"color\":\"#C8D4E3\"},\"line\":{\"color\":\"white\"}},\"type\":\"table\"}],\"barpolar\":[{\"marker\":{\"line\":{\"color\":\"#E5ECF6\",\"width\":0.5},\"pattern\":{\"fillmode\":\"overlay\",\"size\":10,\"solidity\":0.2}},\"type\":\"barpolar\"}],\"pie\":[{\"automargin\":true,\"type\":\"pie\"}]},\"layout\":{\"autotypenumbers\":\"strict\",\"colorway\":[\"#636efa\",\"#EF553B\",\"#00cc96\",\"#ab63fa\",\"#FFA15A\",\"#19d3f3\",\"#FF6692\",\"#B6E880\",\"#FF97FF\",\"#FECB52\"],\"font\":{\"color\":\"#2a3f5f\"},\"hovermode\":\"closest\",\"hoverlabel\":{\"align\":\"left\"},\"paper_bgcolor\":\"white\",\"plot_bgcolor\":\"#E5ECF6\",\"polar\":{\"bgcolor\":\"#E5ECF6\",\"angularaxis\":{\"gridcolor\":\"white\",\"linecolor\":\"white\",\"ticks\":\"\"},\"radialaxis\":{\"gridcolor\":\"white\",\"linecolor\":\"white\",\"ticks\":\"\"}},\"ternary\":{\"bgcolor\":\"#E5ECF6\",\"aaxis\":{\"gridcolor\":\"white\",\"linecolor\":\"white\",\"ticks\":\"\"},\"baxis\":{\"gridcolor\":\"white\",\"linecolor\":\"white\",\"ticks\":\"\"},\"caxis\":{\"gridcolor\":\"white\",\"linecolor\":\"white\",\"ticks\":\"\"}},\"coloraxis\":{\"colorbar\":{\"outlinewidth\":0,\"ticks\":\"\"}},\"colorscale\":{\"sequential\":[[0.0,\"#0d0887\"],[0.1111111111111111,\"#46039f\"],[0.2222222222222222,\"#7201a8\"],[0.3333333333333333,\"#9c179e\"],[0.4444444444444444,\"#bd3786\"],[0.5555555555555556,\"#d8576b\"],[0.6666666666666666,\"#ed7953\"],[0.7777777777777778,\"#fb9f3a\"],[0.8888888888888888,\"#fdca26\"],[1.0,\"#f0f921\"]],\"sequentialminus\":[[0.0,\"#0d0887\"],[0.1111111111111111,\"#46039f\"],[0.2222222222222222,\"#7201a8\"],[0.3333333333333333,\"#9c179e\"],[0.4444444444444444,\"#bd3786\"],[0.5555555555555556,\"#d8576b\"],[0.6666666666666666,\"#ed7953\"],[0.7777777777777778,\"#fb9f3a\"],[0.8888888888888888,\"#fdca26\"],[1.0,\"#f0f921\"]],\"diverging\":[[0,\"#8e0152\"],[0.1,\"#c51b7d\"],[0.2,\"#de77ae\"],[0.3,\"#f1b6da\"],[0.4,\"#fde0ef\"],[0.5,\"#f7f7f7\"],[0.6,\"#e6f5d0\"],[0.7,\"#b8e186\"],[0.8,\"#7fbc41\"],[0.9,\"#4d9221\"],[1,\"#276419\"]]},\"xaxis\":{\"gridcolor\":\"white\",\"linecolor\":\"white\",\"ticks\":\"\",\"title\":{\"standoff\":15},\"zerolinecolor\":\"white\",\"automargin\":true,\"zerolinewidth\":2},\"yaxis\":{\"gridcolor\":\"white\",\"linecolor\":\"white\",\"ticks\":\"\",\"title\":{\"standoff\":15},\"zerolinecolor\":\"white\",\"automargin\":true,\"zerolinewidth\":2},\"scene\":{\"xaxis\":{\"backgroundcolor\":\"#E5ECF6\",\"gridcolor\":\"white\",\"linecolor\":\"white\",\"showbackground\":true,\"ticks\":\"\",\"zerolinecolor\":\"white\",\"gridwidth\":2},\"yaxis\":{\"backgroundcolor\":\"#E5ECF6\",\"gridcolor\":\"white\",\"linecolor\":\"white\",\"showbackground\":true,\"ticks\":\"\",\"zerolinecolor\":\"white\",\"gridwidth\":2},\"zaxis\":{\"backgroundcolor\":\"#E5ECF6\",\"gridcolor\":\"white\",\"linecolor\":\"white\",\"showbackground\":true,\"ticks\":\"\",\"zerolinecolor\":\"white\",\"gridwidth\":2}},\"shapedefaults\":{\"line\":{\"color\":\"#2a3f5f\"}},\"annotationdefaults\":{\"arrowcolor\":\"#2a3f5f\",\"arrowhead\":0,\"arrowwidth\":1},\"geo\":{\"bgcolor\":\"white\",\"landcolor\":\"#E5ECF6\",\"subunitcolor\":\"white\",\"showland\":true,\"showlakes\":true,\"lakecolor\":\"white\"},\"title\":{\"x\":0.05},\"mapbox\":{\"style\":\"light\"}}},\"mapbox\":{\"domain\":{\"x\":[0.0,1.0],\"y\":[0.0,1.0]},\"center\":{\"lat\":-15.878191211624543,\"lon\":-48.10520207922798},\"zoom\":12.5,\"style\":\"carto-positron\"},\"coloraxis\":{\"colorbar\":{\"title\":{\"text\":\"Pre\\u00e7o dos im\\u00f3veis\"}},\"colorscale\":[[0.0,\"rgb(12,51,131)\"],[0.25,\"rgb(10,136,186)\"],[0.5,\"rgb(242,211,56)\"],[0.75,\"rgb(242,143,56)\"],[1.0,\"rgb(217,30,30)\"]]},\"legend\":{\"tracegroupgap\":0,\"itemsizing\":\"constant\"},\"margin\":{\"t\":0,\"r\":0,\"l\":0,\"b\":0}},                        {\"responsive\": true}                    ).then(function(){\n",
       "                            \n",
       "var gd = document.getElementById('f1fca572-e864-4153-98ea-3ce815c6dcd1');\n",
       "var x = new MutationObserver(function (mutations, observer) {{\n",
       "        var display = window.getComputedStyle(gd).display;\n",
       "        if (!display || display === 'none') {{\n",
       "            console.log([gd, 'removed!']);\n",
       "            Plotly.purge(gd);\n",
       "            observer.disconnect();\n",
       "        }}\n",
       "}});\n",
       "\n",
       "// Listen for the removal of the full notebook cells\n",
       "var notebookContainer = gd.closest('#notebook-container');\n",
       "if (notebookContainer) {{\n",
       "    x.observe(notebookContainer, {childList: true});\n",
       "}}\n",
       "\n",
       "// Listen for the clearing of the current output cell\n",
       "var outputEl = gd.closest('.output');\n",
       "if (outputEl) {{\n",
       "    x.observe(outputEl, {childList: true});\n",
       "}}\n",
       "\n",
       "                        })                };                });            </script>        </div>"
      ]
     },
     "metadata": {},
     "output_type": "display_data"
    }
   ],
   "source": [
    "df_search = df_search[df_search['house_price'] < 690000]\n",
    "\n",
    "fig = px.scatter_mapbox(df_search,\n",
    "                       lon = df_search['longitude'],\n",
    "                       lat = df_search['latitude'],\n",
    "                       center={\"lat\": -15.878191211624543, \"lon\": -48.10520207922798},\n",
    "                        zoom=12.5,\n",
    "                       color = df_search['house_price'],\n",
    "                       size = df_search[0],\n",
    "                       color_continuous_scale=px.colors.diverging.Portland,\n",
    "                       labels={'house_price': 'Preço dos imóveis'},\n",
    "                       )\n",
    "\n",
    "fig.update_layout(mapbox_style='carto-positron')\n",
    "fig.update_layout(\n",
    "    margin={\"r\":0,\"t\":0,\"l\":0,\"b\":0},\n",
    ")\n",
    "\n",
    "fig.show()"
   ]
  }
 ],
 "metadata": {
  "kernelspec": {
   "display_name": "Python 3 (ipykernel)",
   "language": "python",
   "name": "python3"
  },
  "language_info": {
   "codemirror_mode": {
    "name": "ipython",
    "version": 3
   },
   "file_extension": ".py",
   "mimetype": "text/x-python",
   "name": "python",
   "nbconvert_exporter": "python",
   "pygments_lexer": "ipython3",
   "version": "3.9.13"
  }
 },
 "nbformat": 4,
 "nbformat_minor": 5
}
